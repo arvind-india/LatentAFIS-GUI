{
 "cells": [
  {
   "cell_type": "markdown",
   "metadata": {},
   "source": [
    "## Generate Finger mask"
   ]
  },
  {
   "cell_type": "code",
   "execution_count": 1,
   "metadata": {
    "collapsed": true
   },
   "outputs": [],
   "source": [
    "import os\n",
    "os.environ[\"KERAS_BACKEND\"]= 'tensorflow'\n",
    "os.environ[\"CUDA_VISIBLE_DEVICES\"] = '1'"
   ]
  },
  {
   "cell_type": "code",
   "execution_count": 2,
   "metadata": {
    "collapsed": false
   },
   "outputs": [
    {
     "name": "stderr",
     "output_type": "stream",
     "text": [
      "Using TensorFlow backend.\n"
     ]
    }
   ],
   "source": [
    "import sys\n",
    "import random\n",
    "import math\n",
    "import re\n",
    "import time\n",
    "import numpy as np\n",
    "import tensorflow as tf\n",
    "import matplotlib\n",
    "import matplotlib.pyplot as plt\n",
    "import matplotlib.patches as patches\n",
    "\n",
    "import utils\n",
    "import visualize\n",
    "from visualize import display_images\n",
    "import model as modellib\n",
    "from model import log\n",
    "import scipy.misc\n",
    "import skimage.io as io\n",
    "import skimage.io\n",
    "\n",
    "sys.path.append(\"./TensorVision\")\n",
    "\n",
    "import tensorvision.utils as tv_utils\n",
    "\n",
    "\n",
    "from hist_util import histeq\n",
    "\n",
    "%matplotlib inline \n",
    "\n",
    "# Root directory of the project\n",
    "ROOT_DIR = os.getcwd()\n",
    "\n",
    "# Directory to save logs and trained model\n",
    "MODEL_DIR = os.path.join(ROOT_DIR, \"logs\")\n",
    "\n",
    "\n",
    "from config import Config\n",
    "class ShapesConfig(Config):\n",
    "    \"\"\"Configuration for training on the toy shapes dataset.\n",
    "    Derives from the base Config class and overrides values specific\n",
    "    to the toy shapes dataset.\n",
    "    \"\"\"\n",
    "    # Give the configuration a recognizable name\n",
    "    NAME = \"shapes\"\n",
    "\n",
    "    # Train on 1 GPU and 8 images per GPU. We can put multiple images on each\n",
    "    # GPU because the images are small. Batch size is 8 (GPUs * images/GPU).\n",
    "    GPU_COUNT = 1\n",
    "    IMAGES_PER_GPU = 1\n",
    "\n",
    "    # Number of classes (including background)\n",
    "    NUM_CLASSES = 1 + 1  # background + 1 finger class\n",
    "\n",
    "    # Use small images for faster training. Set the limits of the small side\n",
    "    # the large side, and that determines the image shape.\n",
    "    IMAGE_MIN_DIM = 128\n",
    "    #For NISTSD27: 800, WVU: 1024 \n",
    "    #IMAGE_MAX_DIM = 1024\n",
    "    IMAGE_MAX_DIM = 512\n",
    "\n",
    "    # Use smaller anchors because our image and objects are small\n",
    "    RPN_ANCHOR_SCALES = (8, 16, 32, 64, 128)  # anchor side in pixels\n",
    "\n",
    "    # Reduce training ROIs per image because the images are small and have\n",
    "    # few objects. Aim to allow ROI sampling to pick 33% positive ROIs.\n",
    "    TRAIN_ROIS_PER_IMAGE = 32\n",
    "\n",
    "    # Use a small epoch since the data is simple\n",
    "    STEPS_PER_EPOCH = 500\n",
    "\n",
    "    # use small validation steps since the epoch is small\n",
    "    VALIDATION_STEPS = 15\n",
    "    \n",
    "    DETECTION_MIN_CONFIDENCE = 0\n",
    "    \n",
    "config = ShapesConfig()\n",
    "#config.display()\n",
    "\n",
    "# Inspect the model in training or inference modes\n",
    "# values: 'inference' or 'training'\n",
    "# TODO: code for 'training' test mode not ready yet\n",
    "TEST_MODE = \"inference\"\n",
    "\n",
    "def get_ax(rows=1, cols=1, size=16):\n",
    "    \"\"\"Return a Matplotlib Axes array to be used in\n",
    "    all visualizations in the notebook. Provide a\n",
    "    central point to control graph sizes.\n",
    "    \n",
    "    Adjust the size attribute to control how big to render images\n",
    "    \"\"\"\n",
    "    _, ax = plt.subplots(rows, cols, figsize=(size*cols, size*rows))\n",
    "    return ax\n",
    "\n",
    "\n",
    "class ShapesDataset(utils.Dataset):\n",
    "\n",
    "    def load_shapes(self, DATA_DIR, height, width):\n",
    "        \"\"\"Create queue to load images into queue\n",
    "        height, width: the size of the images.\n",
    "        \"\"\"\n",
    "        # Add classes: prepare for general\n",
    "        self.add_class(\"shapes\", 1, \"fingerprint\")\n",
    "        \n",
    "        # Pair: (Image, Mask)\n",
    "        # You can read all images from the path\n",
    "        \n",
    "        # Read Image from path\n",
    "        name_images = []\n",
    "        for root, subdirs, files in os.walk(DATA_DIR + '/Image/'):\n",
    "            for file in files:\n",
    "                if os.path.splitext(file)[1].lower() in ('.bmp', '.jpg', '.jpeg'):\n",
    "                    name_images.append(os.path.join(root, file))\n",
    "        # Read Mask from path\n",
    "        name_masks = []\n",
    "        for root, subdirs, files in os.walk(DATA_DIR + '/Mask/'):\n",
    "            for file in files:\n",
    "                if os.path.splitext(file)[1].lower() in ('.bmp', '.jpg', '.jpeg'):\n",
    "                    name_masks.append(os.path.join(root, file))\n",
    "                    \n",
    "        print \"Total %d raw images\" %len(name_images)\n",
    "        print \"Total %d raw masks\" %len(name_masks)\n",
    "        name_images = sorted(name_images)\n",
    "        name_masks = sorted(name_masks)\n",
    "        \n",
    "        for i in range(0, len(name_images)):\n",
    "            self.add_image(\"shapes\", image_id=i, path=name_images[i],\n",
    "                       width=width, height=height)\n",
    "            self.add_mask(\"shapes\", image_id=i, path=name_masks[i],\n",
    "                       width=width, height=height)\n",
    "        \n",
    "\n",
    "    def load_image(self, image_id):\n",
    "        \"\"\"Load the specified image and return a [H,W,3] Numpy array.\n",
    "        \"\"\"\n",
    "        \n",
    "        # Load image\n",
    "        image = skimage.io.imread(self.image_info[image_id]['path'])\n",
    "\n",
    "        # If grayscale. Convert to RGB for consistency.\n",
    "        if image.ndim != 3:\n",
    "            image = skimage.color.gray2rgb(image)\n",
    "        return image\n",
    "\n",
    "    def load_mask_image(self, mask_id):\n",
    "        \"\"\"Load the specified original mask image\n",
    "        \"\"\"\n",
    "        \n",
    "        # Load image\n",
    "        image = skimage.io.imread(self.mask_info[mask_id]['path'])\n",
    "\n",
    "        return image\n",
    "    \n",
    "    def image_reference(self, image_id):\n",
    "        \"\"\"Return the shapes data of the image.\"\"\"\n",
    "        info = self.image_info[image_id]\n",
    "        if info[\"source\"] == \"shapes\":\n",
    "            return info[\"shapes\"]\n",
    "        else:\n",
    "            super(self.__class__).image_reference(self, image_id)\n",
    "\n",
    "            \n",
    "    def load_mask(self, image_id):\n",
    "        \"\"\"Generate instance masks for shapes of the given image ID.\n",
    "        \"\"\"\n",
    "        \n",
    "        # Hardcoding -> TODO: need to change\n",
    "        shapes = ['fingerprint']\n",
    "        count = len(shapes)\n",
    "        \n",
    "        mask_o = skimage.io.imread(self.mask_info[image_id]['path'])/255\n",
    "\n",
    "        mask = np.zeros([mask_o.shape[0], mask_o.shape[1], count], dtype=np.uint8)\n",
    "        for i in range(0, count):\n",
    "            mask[:, :, i] = mask_o        \n",
    "        \n",
    "        # Map class names to class IDs.\n",
    "        class_ids = np.array([1])\n",
    "        return mask, class_ids.astype(np.int32)\n",
    "\n",
    "\n",
    "def imhist(im):\n",
    "  # calculates normalized histogram of an image\n",
    "\tm, n = im.shape\n",
    "\th = [0.0] * 256\n",
    "\tfor i in range(m):\n",
    "\t\tfor j in range(n):\n",
    "\t\t\th[im[i, j]]+=1\n",
    "\treturn np.array(h)/(m*n)\n",
    "\n",
    "def cumsum(h):\n",
    "\t# finds cumulative sum of a numpy array, list\n",
    "\treturn [sum(h[:i+1]) for i in range(len(h))]\n",
    "\n",
    "def histeq(im):\n",
    "\t#calculate Histogram\n",
    "\th = imhist(im)\n",
    "\tcdf = np.array(cumsum(h)) #cumulative distribution function\n",
    "\tsk = np.uint8(255 * cdf) #finding transfer function values\n",
    "\ts1, s2 = im.shape\n",
    "\tY = np.zeros_like(im)\n",
    "\t# applying transfered values for each pixels\n",
    "\tfor i in range(0, s1):\n",
    "\t\tfor j in range(0, s2):\n",
    "\t\t\tY[i, j] = sk[im[i, j]]\n",
    "\tH = imhist(Y)\n",
    "\t#return transformed image, original and new istogram, \n",
    "\t# and transform function\n",
    "\treturn Y , h, H, sk\n",
    "\n",
    "\n",
    "class InferenceConfig(ShapesConfig):\n",
    "    GPU_COUNT = 1\n",
    "    IMAGES_PER_GPU = 1\n",
    "    RPN_NMS_THRESHOLD = 0.7  # This is important because of threshold:\n",
    "    DETECTION_MIN_CONFIDENCE = 0.3 # 0.5 is best Seems a little\n",
    "    DETECTION_NMS_THRESHOLD = 0 # Seems nothing\n",
    "    RPN_ANCHOR_STRIDE = 1\n",
    "    RPN_ANCHOR_RATIOS = [0.25, 0.5, 0.75]\n",
    "    #MEAN_PIXEL = [128, 128, 128]\n",
    "    #ROI_POSITIVE_RATIO = 0.5 # seems nothing\n",
    "    #RPN_ANCHOR_RATIOS = [0.5, 1, 2]\n",
    "    \n",
    "    #RPN_ANCHOR_SCALES = (4, 8, 16, 32, 64)\n",
    "    #ROI_POSITIVE_RATIO = 0.1\n",
    "    #IMAGE_MAX_DIM = 800\n",
    "    #IMAGE_MIN_DIM = 128\n",
    "\n",
    "inference_config = InferenceConfig()\n",
    "#inference_config.display()\n",
    "\n",
    "\n",
    "def IoU(predict, groundtruth):\n",
    "    intersection = predict & groundtruth\n",
    "    union = predict | groundtruth\n",
    "    iou1 = sum(sum(1.0*intersection))/sum(sum(1.0*union))\n",
    "\n",
    "    predict = 1 - predict\n",
    "    groundtruth = 1 - groundtruth\n",
    "    \n",
    "    intersection = predict & groundtruth\n",
    "    union = predict | groundtruth\n",
    "    iou2 = sum(sum(1.0*intersection))/sum(sum(1.0*union))\n",
    "    return (iou1+iou2)/2\n",
    "\n",
    "def to_rgb(im):\n",
    "    # I think this will be slow\n",
    "    w, h = im.shape\n",
    "    ret = np.empty((w, h, 3), dtype=np.uint8)\n",
    "    ret[:, :, 0] = im\n",
    "    ret[:, :, 1] = im\n",
    "    ret[:, :, 2] = im\n",
    "    return ret\n",
    "\n",
    "def revert(image):\n",
    "    image[:,:,0] = 255-image[:,:,0]\n",
    "    image[:,:,1] = 255-image[:,:,1]\n",
    "    image[:,:,2] = 255-image[:,:,2]  \n",
    "    return image\n",
    "\n",
    "def to_one_depth(im):\n",
    "    # I think this will be slow\n",
    "    w, h = im.shape\n",
    "    ret = np.empty((w, h, 1), dtype=np.uint8)\n",
    "    ret[:, :, 0] = im\n",
    "    return ret\n",
    "\n",
    "def calculate_cumulative_mask(model, base_image, begin_thres = -10, end_thres = 10, step = 10):\n",
    "    # base_image has shape (w, h, 3)\n",
    "    cumulative_mask = base_image[:,:,0]*0\n",
    "    \n",
    "    for thres in range(begin_thres, end_thres+1, step): # -10, 0, 10 is best for after hist equal\n",
    "        image = base_image + thres\n",
    "    \n",
    "        # Run object detection\n",
    "        results = model.detect([image], verbose=0, threshold_mask = 0.7)\n",
    "        r = results[0]\n",
    "        \n",
    "        if r['masks'].shape[0] > 0:\n",
    "            cumulative_mask += r['masks'][:,:,0]\n",
    "        \n",
    "    return cumulative_mask\n",
    "\n",
    "\n",
    "\n",
    "#print(\"Images: {}\\nClasses: {}\".format(len(dataset_val.image_ids), dataset_val.class_names))\n",
    "\n",
    "#MODEL_DIR =  \"/research/prip-nguye590/Segmentation/Mask_RCNN/logs/shapes20171215T0924/mask_rcnn_shapes_0305.h5\"\n",
    "#MODEL_DIR =  \"/research/prip-nguye590/Segmentation/Mask_RCNN/logs/shapes20171224T1316/mask_rcnn_shapes_0450.h5\"\n",
    "#MODEL_DIR =  \"/research/prip-nguye590/Segmentation/Mask_RCNN/logs/shapes20171228T1329/mask_rcnn_shapes_0033.h5\"\n",
    "#MODEL_DIR =  \"/research/prip-nguye590/Segmentation/Mask_RCNN/logs/shapes20171228T1329/mask_rcnn_shapes_0140.h5\"\n",
    "\n",
    "\n",
    "CHANGE_PATH = '/research/prip-nguye590/Segmentation/Mask_RCNN/Masked_image/send_Kai_v2'\n",
    "\n",
    "def load_model(MODEL_DIR):\n",
    "    # Create model in inference mode\n",
    "    model = modellib.MaskRCNN(mode=\"inference\", model_dir=MODEL_DIR,\n",
    "                                  config=inference_config)\n",
    "\n",
    "    weights_path = MODEL_DIR\n",
    "\n",
    "    # Load weights\n",
    "    print(\"Loading weights \", weights_path)\n",
    "    model.load_weights(weights_path, by_name=True)\n",
    "    return model\n",
    "    \n",
    "\n",
    "def generate_mask(model, CHANGE_PATH, DATA_DIR, gen_type = 'bmp', fuse_thres = 1):    \n",
    "\n",
    "    # Validation dataset\n",
    "    dataset_val = ShapesDataset()\n",
    "    dataset_val.load_shapes(DATA_DIR, config.IMAGE_SHAPE[0], config.IMAGE_SHAPE[1])\n",
    "    dataset_val.prepare()\n",
    "\n",
    "    # Must call before using the dataset\n",
    "    dataset_val.prepare()\n",
    "\n",
    "    dataset = dataset_val\n",
    "\n",
    "    \n",
    "    \n",
    "    for image_id in dataset.image_ids:\n",
    "    #for image_id in [1, 2]:\n",
    "        #image_id = 241 173 195 132 219\n",
    "        original_image, image_meta, gt_class_id, gt_bbox, gt_mask =\\\n",
    "            modellib.load_image_gt(dataset_val, config, image_id, use_mini_mask=False)\n",
    "        \n",
    "        # Voting scheme: original image and equalized image are feed to give the result with variance of gray scale value is \n",
    "        # from -10 to 10. The result is the region that have the 3/6 point value in area.\n",
    "\n",
    "        # Initialize the cumulative mask as 0\n",
    "        cumulative_mask = gt_mask[:,:,0]*0\n",
    "        cumulative_box = gt_mask[:,:,0]*0\n",
    "\n",
    "        #\"\"\"\n",
    "        # Normalize mean to 128:\n",
    "        normal_image = np.uint8(original_image + 128 - np.mean(original_image))\n",
    "        #original_image = normal_image\n",
    "\n",
    "        # original_image has 3 channels as the same\n",
    "        equalized_img_gray, _, _, _ = histeq(original_image[:,:,0])    \n",
    "        # Processing Histogram equalized image\n",
    "        equalized_img_rgb = to_rgb(equalized_img_gray)\n",
    "\n",
    "        # Revert original_image\n",
    "        #original_image = revert(original_image)\n",
    "\n",
    "        cumulative_mask += calculate_cumulative_mask(model, normal_image, -20, 21)\n",
    "        cumulative_mask += calculate_cumulative_mask(model, equalized_img_rgb, -20, 21)\n",
    "        cumulative_mask += calculate_cumulative_mask(model, original_image, -20, 21)    \n",
    "\n",
    "        THRESHOLD_CUMULATIVE_MASK = fuse_thres\n",
    "\n",
    "        thres_compare = min(THRESHOLD_CUMULATIVE_MASK,np.max(np.max(cumulative_mask)))\n",
    "\n",
    "        # Bitwise compare to get the mask that each pixel has value of THRESHOLD_CUMULATIVE_MASK\n",
    "        cumulative_mask = (cumulative_mask >= thres_compare)*1\n",
    "\n",
    "        # Bounding box wrap the mask\n",
    "        pad = 0\n",
    "        # Check if having mask return; if no mask, then box is the full image\n",
    "        if np.sum(np.sum(cumulative_mask))>0:\n",
    "            bbox = utils.extract_bboxes(to_one_depth(cumulative_mask))\n",
    "            cumulative_box[max(0,bbox[0,0]-pad):min(config.IMAGE_MAX_DIM-1,bbox[0,2]+pad), max(0,bbox[0,1]-pad):min(config.IMAGE_MAX_DIM-1,bbox[0,3]+pad)] = 1\n",
    "        else:\n",
    "            cumulative_box[:,:] = 1\n",
    "\n",
    "        # Visualization\n",
    "        #output = tv_utils.fast_overlay(original_image, gt_mask, [1, 255, 0, 127])\n",
    "        #output = tv_utils.fast_overlay(output, cumulative_mask, [1, 0, 255, 127])\n",
    "        #plt.show()\n",
    "        #io.imshow(output)\n",
    "        #\"\"\"\n",
    "        # Filter Image after Mask\n",
    "        #image_after_mask = original_image[:,:,0]*cumulative_mask\n",
    "        #image_after_box = original_image[:,:,0]*cumulative_box\n",
    "\n",
    "        image_after_mask = equalized_img_rgb[:,:,0]*cumulative_mask\n",
    "        image_after_box = equalized_img_rgb[:,:,0]*cumulative_box\n",
    "\n",
    "        #Check the case it is all black\n",
    "        if np.sum(np.sum(image_after_mask))==0:\n",
    "            image_after_mask = original_image[:,:,0]\n",
    "        if np.sum(np.sum(image_after_box))==0:\n",
    "            image_after_box = original_image[:,:,0]\n",
    "\n",
    "        #plt.set_cmap('gray')\n",
    "        #plt.show()\n",
    "        #plt.imshow(image_after_mask)\n",
    "        #plt.show()\n",
    "        #plt.imshow(image_after_box)\n",
    "        # Resize image into specific size\n",
    "        #image_after_mask = scipy.misc.imresize(image_after_mask, (800, 800))\n",
    "        \n",
    "        # Get the threshold size\n",
    "        img_max_size = max(image_meta[1], image_meta[2])\n",
    "        \n",
    "        print image_id\n",
    "        \n",
    "        if config.IMAGE_MAX_DIM < img_max_size:\n",
    "            # Resize mask as the same size as img\n",
    "            resized_cumulative_box = scipy.misc.imresize(cumulative_box.astype(float), (img_max_size, img_max_size), interp='bilinear')\n",
    "            resized_cumulative_box = resized_cumulative_box > 0\n",
    "            \n",
    "            resized_cumulative_mask = scipy.misc.imresize(cumulative_mask.astype(float), (img_max_size, img_max_size), interp='bilinear')\n",
    "            resized_cumulative_mask = resized_cumulative_mask > 0\n",
    "        \n",
    "        current_size = max(config.IMAGE_MAX_DIM, img_max_size)\n",
    "        \n",
    "        pad_width = (current_size - image_meta[1])/2\n",
    "        pad_height = (current_size - image_meta[2])/2\n",
    "        \n",
    "        \n",
    "        \n",
    "        \n",
    "        if pad_width > 0 or pad_height > 0:\n",
    "            if gen_type == 'box':\n",
    "                SAVE_MASKED_IMG_DIR_BOX = CHANGE_PATH + '_box/'\n",
    "                if not os.path.exists(SAVE_MASKED_IMG_DIR_BOX):\n",
    "                    os.makedirs(SAVE_MASKED_IMG_DIR_BOX)\n",
    "                io.imsave(SAVE_MASKED_IMG_DIR_BOX + '%d_masked.bmp'%(image_id+1), resized_cumulative_box[pad_width:current_size - pad_width, pad_height:current_size - pad_height]*255)\n",
    "            if gen_type == 'bmp':\n",
    "                SAVE_MASKED_IMG_DIR_BMP = CHANGE_PATH + '_bmp/'\n",
    "                if not os.path.exists(SAVE_MASKED_IMG_DIR_BMP):\n",
    "                    os.makedirs(SAVE_MASKED_IMG_DIR_BMP)\n",
    "                io.imsave(SAVE_MASKED_IMG_DIR_BMP + '%d_masked.bmp'%(image_id+1), resized_cumulative_mask[pad_width:current_size - pad_width, pad_height:current_size - pad_height]*255)\n",
    "\n",
    "        # Save image\n",
    "        #io.imsave(SAVE_MASKED_IMG_DIR_BMP + '%d_masked.bmp'%(image_id+1), image_after_mask)\n",
    "        #io.imsave(SAVE_MASKED_IMG_DIR_BOX + '%d_masked.bmp'%(image_id+1), image_after_box)\n",
    "\n",
    "        \n",
    "        \n",
    "        #\"\"\"\n"
   ]
  },
  {
   "cell_type": "code",
   "execution_count": 3,
   "metadata": {
    "collapsed": false
   },
   "outputs": [
    {
     "name": "stdout",
     "output_type": "stream",
     "text": [
      "('Loading weights ', '/home/nguye590/Research/prip-nguye590/Segmentation/Mask_RCNN/logs/shapes20171215T0924/mask_rcnn_shapes_0305.h5')\n"
     ]
    }
   ],
   "source": [
    "#MODEL_DIR =  \"/research/prip-nguye590/Segmentation/Mask_RCNN/logs/shapes20171215T0924/mask_rcnn_shapes_0305.h5\"\n",
    "#MODEL_DIR =  \"/research/prip-nguye590/Segmentation/Mask_RCNN/logs/shapes20171224T1316/mask_rcnn_shapes_0450.h5\"\n",
    "#MODEL_DIR =  \"/research/prip-nguye590/Segmentation/Mask_RCNN/logs/shapes20171228T1329/mask_rcnn_shapes_0033.h5\"\n",
    "#MODEL_DIR =  \"/research/prip-nguye590/Segmentation/Mask_RCNN/logs/shapes20171228T1329/mask_rcnn_shapes_0140.h5\"\n",
    "#MODEL_DIR =  \"/research/prip-nguye590/Segmentation/Mask_RCNN/logs/shapes20171229T1052/mask_rcnn_shapes_0140.h5\"\n",
    "mymodel = load_model('/home/kaicao/Research/Mask_framework/15_12_0140.h5')"
   ]
  },
  {
   "cell_type": "code",
   "execution_count": 4,
   "metadata": {
    "collapsed": false
   },
   "outputs": [
    {
     "name": "stdout",
     "output_type": "stream",
     "text": [
      "Total 258 raw images\n",
      "Total 258 raw masks\n"
     ]
    },
    {
     "name": "stderr",
     "output_type": "stream",
     "text": [
      "/home/nguye590/anaconda2/envs/tensorflow-research/lib/python2.7/site-packages/scipy/ndimage/interpolation.py:616: UserWarning: From scipy 0.13.0, the output shape of zoom() is calculated with round() instead of int() - for these inputs the size of the returned array has changed.\n",
      "  \"the returned array has changed.\", UserWarning)\n"
     ]
    },
    {
     "name": "stdout",
     "output_type": "stream",
     "text": [
      "0\n"
     ]
    },
    {
     "name": "stderr",
     "output_type": "stream",
     "text": [
      "/home/nguye590/anaconda2/envs/tensorflow-research/lib/python2.7/site-packages/ipykernel_launcher.py:401: DeprecationWarning: `imresize` is deprecated!\n",
      "`imresize` is deprecated in SciPy 1.0.0, and will be removed in 1.2.0.\n",
      "Use ``skimage.transform.resize`` instead.\n",
      "/home/nguye590/anaconda2/envs/tensorflow-research/lib/python2.7/site-packages/ipykernel_launcher.py:404: DeprecationWarning: `imresize` is deprecated!\n",
      "`imresize` is deprecated in SciPy 1.0.0, and will be removed in 1.2.0.\n",
      "Use ``skimage.transform.resize`` instead.\n",
      "/home/nguye590/anaconda2/envs/tensorflow-research/lib/python2.7/site-packages/skimage/io/_io.py:132: UserWarning: /home/nguye590/Research/prip-nguye590/Latent_matching_hub/Segmentation/output_mask/shapes20171215T0924_305_from_512_thres_1_bmp/1_masked.bmp is a low contrast image\n",
      "  warn('%s is a low contrast image' % fname)\n",
      "/home/nguye590/anaconda2/envs/tensorflow-research/lib/python2.7/site-packages/skimage/util/dtype.py:118: UserWarning: Possible sign loss when converting negative image of type int64 to positive image of type uint8.\n",
      "  .format(dtypeobj_in, dtypeobj_out))\n",
      "/home/nguye590/anaconda2/envs/tensorflow-research/lib/python2.7/site-packages/skimage/util/dtype.py:171: UserWarning: Downcasting int64 to uint8 without scaling because max value 255 fits in uint8\n",
      "  \"value {} fits in {}\".format(a.dtype, dtype, a.max(), dtype))\n"
     ]
    },
    {
     "name": "stdout",
     "output_type": "stream",
     "text": [
      "1\n"
     ]
    },
    {
     "name": "stderr",
     "output_type": "stream",
     "text": [
      "/home/nguye590/anaconda2/envs/tensorflow-research/lib/python2.7/site-packages/skimage/io/_io.py:132: UserWarning: /home/nguye590/Research/prip-nguye590/Latent_matching_hub/Segmentation/output_mask/shapes20171215T0924_305_from_512_thres_1_bmp/2_masked.bmp is a low contrast image\n",
      "  warn('%s is a low contrast image' % fname)\n"
     ]
    },
    {
     "name": "stdout",
     "output_type": "stream",
     "text": [
      "2\n"
     ]
    },
    {
     "name": "stderr",
     "output_type": "stream",
     "text": [
      "/home/nguye590/anaconda2/envs/tensorflow-research/lib/python2.7/site-packages/skimage/io/_io.py:132: UserWarning: /home/nguye590/Research/prip-nguye590/Latent_matching_hub/Segmentation/output_mask/shapes20171215T0924_305_from_512_thres_1_bmp/3_masked.bmp is a low contrast image\n",
      "  warn('%s is a low contrast image' % fname)\n"
     ]
    },
    {
     "name": "stdout",
     "output_type": "stream",
     "text": [
      "3\n"
     ]
    },
    {
     "name": "stderr",
     "output_type": "stream",
     "text": [
      "/home/nguye590/anaconda2/envs/tensorflow-research/lib/python2.7/site-packages/skimage/io/_io.py:132: UserWarning: /home/nguye590/Research/prip-nguye590/Latent_matching_hub/Segmentation/output_mask/shapes20171215T0924_305_from_512_thres_1_bmp/4_masked.bmp is a low contrast image\n",
      "  warn('%s is a low contrast image' % fname)\n"
     ]
    },
    {
     "name": "stdout",
     "output_type": "stream",
     "text": [
      "4\n"
     ]
    },
    {
     "name": "stderr",
     "output_type": "stream",
     "text": [
      "/home/nguye590/anaconda2/envs/tensorflow-research/lib/python2.7/site-packages/skimage/io/_io.py:132: UserWarning: /home/nguye590/Research/prip-nguye590/Latent_matching_hub/Segmentation/output_mask/shapes20171215T0924_305_from_512_thres_1_bmp/5_masked.bmp is a low contrast image\n",
      "  warn('%s is a low contrast image' % fname)\n"
     ]
    },
    {
     "name": "stdout",
     "output_type": "stream",
     "text": [
      "5\n"
     ]
    },
    {
     "name": "stderr",
     "output_type": "stream",
     "text": [
      "/home/nguye590/anaconda2/envs/tensorflow-research/lib/python2.7/site-packages/skimage/io/_io.py:132: UserWarning: /home/nguye590/Research/prip-nguye590/Latent_matching_hub/Segmentation/output_mask/shapes20171215T0924_305_from_512_thres_1_bmp/6_masked.bmp is a low contrast image\n",
      "  warn('%s is a low contrast image' % fname)\n"
     ]
    },
    {
     "name": "stdout",
     "output_type": "stream",
     "text": [
      "6\n"
     ]
    },
    {
     "name": "stderr",
     "output_type": "stream",
     "text": [
      "/home/nguye590/anaconda2/envs/tensorflow-research/lib/python2.7/site-packages/skimage/io/_io.py:132: UserWarning: /home/nguye590/Research/prip-nguye590/Latent_matching_hub/Segmentation/output_mask/shapes20171215T0924_305_from_512_thres_1_bmp/7_masked.bmp is a low contrast image\n",
      "  warn('%s is a low contrast image' % fname)\n"
     ]
    },
    {
     "name": "stdout",
     "output_type": "stream",
     "text": [
      "7\n"
     ]
    },
    {
     "name": "stderr",
     "output_type": "stream",
     "text": [
      "/home/nguye590/anaconda2/envs/tensorflow-research/lib/python2.7/site-packages/skimage/io/_io.py:132: UserWarning: /home/nguye590/Research/prip-nguye590/Latent_matching_hub/Segmentation/output_mask/shapes20171215T0924_305_from_512_thres_1_bmp/8_masked.bmp is a low contrast image\n",
      "  warn('%s is a low contrast image' % fname)\n"
     ]
    },
    {
     "name": "stdout",
     "output_type": "stream",
     "text": [
      "8\n"
     ]
    },
    {
     "name": "stderr",
     "output_type": "stream",
     "text": [
      "/home/nguye590/anaconda2/envs/tensorflow-research/lib/python2.7/site-packages/skimage/io/_io.py:132: UserWarning: /home/nguye590/Research/prip-nguye590/Latent_matching_hub/Segmentation/output_mask/shapes20171215T0924_305_from_512_thres_1_bmp/9_masked.bmp is a low contrast image\n",
      "  warn('%s is a low contrast image' % fname)\n"
     ]
    },
    {
     "name": "stdout",
     "output_type": "stream",
     "text": [
      "9\n"
     ]
    },
    {
     "name": "stderr",
     "output_type": "stream",
     "text": [
      "/home/nguye590/anaconda2/envs/tensorflow-research/lib/python2.7/site-packages/skimage/io/_io.py:132: UserWarning: /home/nguye590/Research/prip-nguye590/Latent_matching_hub/Segmentation/output_mask/shapes20171215T0924_305_from_512_thres_1_bmp/10_masked.bmp is a low contrast image\n",
      "  warn('%s is a low contrast image' % fname)\n"
     ]
    },
    {
     "name": "stdout",
     "output_type": "stream",
     "text": [
      "10\n"
     ]
    },
    {
     "name": "stderr",
     "output_type": "stream",
     "text": [
      "/home/nguye590/anaconda2/envs/tensorflow-research/lib/python2.7/site-packages/skimage/io/_io.py:132: UserWarning: /home/nguye590/Research/prip-nguye590/Latent_matching_hub/Segmentation/output_mask/shapes20171215T0924_305_from_512_thres_1_bmp/11_masked.bmp is a low contrast image\n",
      "  warn('%s is a low contrast image' % fname)\n"
     ]
    },
    {
     "name": "stdout",
     "output_type": "stream",
     "text": [
      "11\n"
     ]
    },
    {
     "name": "stderr",
     "output_type": "stream",
     "text": [
      "/home/nguye590/anaconda2/envs/tensorflow-research/lib/python2.7/site-packages/skimage/io/_io.py:132: UserWarning: /home/nguye590/Research/prip-nguye590/Latent_matching_hub/Segmentation/output_mask/shapes20171215T0924_305_from_512_thres_1_bmp/12_masked.bmp is a low contrast image\n",
      "  warn('%s is a low contrast image' % fname)\n"
     ]
    },
    {
     "name": "stdout",
     "output_type": "stream",
     "text": [
      "12\n"
     ]
    },
    {
     "name": "stderr",
     "output_type": "stream",
     "text": [
      "/home/nguye590/anaconda2/envs/tensorflow-research/lib/python2.7/site-packages/skimage/io/_io.py:132: UserWarning: /home/nguye590/Research/prip-nguye590/Latent_matching_hub/Segmentation/output_mask/shapes20171215T0924_305_from_512_thres_1_bmp/13_masked.bmp is a low contrast image\n",
      "  warn('%s is a low contrast image' % fname)\n"
     ]
    },
    {
     "name": "stdout",
     "output_type": "stream",
     "text": [
      "13\n"
     ]
    },
    {
     "name": "stderr",
     "output_type": "stream",
     "text": [
      "/home/nguye590/anaconda2/envs/tensorflow-research/lib/python2.7/site-packages/skimage/io/_io.py:132: UserWarning: /home/nguye590/Research/prip-nguye590/Latent_matching_hub/Segmentation/output_mask/shapes20171215T0924_305_from_512_thres_1_bmp/14_masked.bmp is a low contrast image\n",
      "  warn('%s is a low contrast image' % fname)\n"
     ]
    },
    {
     "name": "stdout",
     "output_type": "stream",
     "text": [
      "14\n"
     ]
    },
    {
     "name": "stderr",
     "output_type": "stream",
     "text": [
      "/home/nguye590/anaconda2/envs/tensorflow-research/lib/python2.7/site-packages/skimage/io/_io.py:132: UserWarning: /home/nguye590/Research/prip-nguye590/Latent_matching_hub/Segmentation/output_mask/shapes20171215T0924_305_from_512_thres_1_bmp/15_masked.bmp is a low contrast image\n",
      "  warn('%s is a low contrast image' % fname)\n"
     ]
    },
    {
     "name": "stdout",
     "output_type": "stream",
     "text": [
      "15\n"
     ]
    },
    {
     "name": "stderr",
     "output_type": "stream",
     "text": [
      "/home/nguye590/anaconda2/envs/tensorflow-research/lib/python2.7/site-packages/skimage/io/_io.py:132: UserWarning: /home/nguye590/Research/prip-nguye590/Latent_matching_hub/Segmentation/output_mask/shapes20171215T0924_305_from_512_thres_1_bmp/16_masked.bmp is a low contrast image\n",
      "  warn('%s is a low contrast image' % fname)\n"
     ]
    },
    {
     "name": "stdout",
     "output_type": "stream",
     "text": [
      "16\n"
     ]
    },
    {
     "name": "stderr",
     "output_type": "stream",
     "text": [
      "/home/nguye590/anaconda2/envs/tensorflow-research/lib/python2.7/site-packages/skimage/io/_io.py:132: UserWarning: /home/nguye590/Research/prip-nguye590/Latent_matching_hub/Segmentation/output_mask/shapes20171215T0924_305_from_512_thres_1_bmp/17_masked.bmp is a low contrast image\n",
      "  warn('%s is a low contrast image' % fname)\n"
     ]
    },
    {
     "name": "stdout",
     "output_type": "stream",
     "text": [
      "17\n"
     ]
    },
    {
     "name": "stderr",
     "output_type": "stream",
     "text": [
      "/home/nguye590/anaconda2/envs/tensorflow-research/lib/python2.7/site-packages/skimage/io/_io.py:132: UserWarning: /home/nguye590/Research/prip-nguye590/Latent_matching_hub/Segmentation/output_mask/shapes20171215T0924_305_from_512_thres_1_bmp/18_masked.bmp is a low contrast image\n",
      "  warn('%s is a low contrast image' % fname)\n"
     ]
    },
    {
     "name": "stdout",
     "output_type": "stream",
     "text": [
      "18\n"
     ]
    },
    {
     "name": "stderr",
     "output_type": "stream",
     "text": [
      "/home/nguye590/anaconda2/envs/tensorflow-research/lib/python2.7/site-packages/skimage/io/_io.py:132: UserWarning: /home/nguye590/Research/prip-nguye590/Latent_matching_hub/Segmentation/output_mask/shapes20171215T0924_305_from_512_thres_1_bmp/19_masked.bmp is a low contrast image\n",
      "  warn('%s is a low contrast image' % fname)\n"
     ]
    },
    {
     "name": "stdout",
     "output_type": "stream",
     "text": [
      "19\n"
     ]
    },
    {
     "name": "stderr",
     "output_type": "stream",
     "text": [
      "/home/nguye590/anaconda2/envs/tensorflow-research/lib/python2.7/site-packages/skimage/io/_io.py:132: UserWarning: /home/nguye590/Research/prip-nguye590/Latent_matching_hub/Segmentation/output_mask/shapes20171215T0924_305_from_512_thres_1_bmp/20_masked.bmp is a low contrast image\n",
      "  warn('%s is a low contrast image' % fname)\n"
     ]
    },
    {
     "name": "stdout",
     "output_type": "stream",
     "text": [
      "20\n"
     ]
    },
    {
     "name": "stderr",
     "output_type": "stream",
     "text": [
      "/home/nguye590/anaconda2/envs/tensorflow-research/lib/python2.7/site-packages/skimage/io/_io.py:132: UserWarning: /home/nguye590/Research/prip-nguye590/Latent_matching_hub/Segmentation/output_mask/shapes20171215T0924_305_from_512_thres_1_bmp/21_masked.bmp is a low contrast image\n",
      "  warn('%s is a low contrast image' % fname)\n"
     ]
    },
    {
     "name": "stdout",
     "output_type": "stream",
     "text": [
      "21\n"
     ]
    },
    {
     "name": "stderr",
     "output_type": "stream",
     "text": [
      "/home/nguye590/anaconda2/envs/tensorflow-research/lib/python2.7/site-packages/skimage/io/_io.py:132: UserWarning: /home/nguye590/Research/prip-nguye590/Latent_matching_hub/Segmentation/output_mask/shapes20171215T0924_305_from_512_thres_1_bmp/22_masked.bmp is a low contrast image\n",
      "  warn('%s is a low contrast image' % fname)\n"
     ]
    },
    {
     "name": "stdout",
     "output_type": "stream",
     "text": [
      "22\n"
     ]
    },
    {
     "name": "stderr",
     "output_type": "stream",
     "text": [
      "/home/nguye590/anaconda2/envs/tensorflow-research/lib/python2.7/site-packages/skimage/io/_io.py:132: UserWarning: /home/nguye590/Research/prip-nguye590/Latent_matching_hub/Segmentation/output_mask/shapes20171215T0924_305_from_512_thres_1_bmp/23_masked.bmp is a low contrast image\n",
      "  warn('%s is a low contrast image' % fname)\n"
     ]
    },
    {
     "name": "stdout",
     "output_type": "stream",
     "text": [
      "23\n"
     ]
    },
    {
     "name": "stderr",
     "output_type": "stream",
     "text": [
      "/home/nguye590/anaconda2/envs/tensorflow-research/lib/python2.7/site-packages/skimage/io/_io.py:132: UserWarning: /home/nguye590/Research/prip-nguye590/Latent_matching_hub/Segmentation/output_mask/shapes20171215T0924_305_from_512_thres_1_bmp/24_masked.bmp is a low contrast image\n",
      "  warn('%s is a low contrast image' % fname)\n"
     ]
    },
    {
     "name": "stdout",
     "output_type": "stream",
     "text": [
      "24\n"
     ]
    },
    {
     "name": "stderr",
     "output_type": "stream",
     "text": [
      "/home/nguye590/anaconda2/envs/tensorflow-research/lib/python2.7/site-packages/skimage/io/_io.py:132: UserWarning: /home/nguye590/Research/prip-nguye590/Latent_matching_hub/Segmentation/output_mask/shapes20171215T0924_305_from_512_thres_1_bmp/25_masked.bmp is a low contrast image\n",
      "  warn('%s is a low contrast image' % fname)\n"
     ]
    },
    {
     "name": "stdout",
     "output_type": "stream",
     "text": [
      "25\n"
     ]
    },
    {
     "name": "stderr",
     "output_type": "stream",
     "text": [
      "/home/nguye590/anaconda2/envs/tensorflow-research/lib/python2.7/site-packages/skimage/io/_io.py:132: UserWarning: /home/nguye590/Research/prip-nguye590/Latent_matching_hub/Segmentation/output_mask/shapes20171215T0924_305_from_512_thres_1_bmp/26_masked.bmp is a low contrast image\n",
      "  warn('%s is a low contrast image' % fname)\n"
     ]
    },
    {
     "name": "stdout",
     "output_type": "stream",
     "text": [
      "26\n"
     ]
    },
    {
     "name": "stderr",
     "output_type": "stream",
     "text": [
      "/home/nguye590/anaconda2/envs/tensorflow-research/lib/python2.7/site-packages/skimage/io/_io.py:132: UserWarning: /home/nguye590/Research/prip-nguye590/Latent_matching_hub/Segmentation/output_mask/shapes20171215T0924_305_from_512_thres_1_bmp/27_masked.bmp is a low contrast image\n",
      "  warn('%s is a low contrast image' % fname)\n"
     ]
    },
    {
     "name": "stdout",
     "output_type": "stream",
     "text": [
      "27\n"
     ]
    },
    {
     "name": "stderr",
     "output_type": "stream",
     "text": [
      "/home/nguye590/anaconda2/envs/tensorflow-research/lib/python2.7/site-packages/skimage/io/_io.py:132: UserWarning: /home/nguye590/Research/prip-nguye590/Latent_matching_hub/Segmentation/output_mask/shapes20171215T0924_305_from_512_thres_1_bmp/28_masked.bmp is a low contrast image\n",
      "  warn('%s is a low contrast image' % fname)\n"
     ]
    },
    {
     "name": "stdout",
     "output_type": "stream",
     "text": [
      "28\n"
     ]
    },
    {
     "name": "stderr",
     "output_type": "stream",
     "text": [
      "/home/nguye590/anaconda2/envs/tensorflow-research/lib/python2.7/site-packages/skimage/io/_io.py:132: UserWarning: /home/nguye590/Research/prip-nguye590/Latent_matching_hub/Segmentation/output_mask/shapes20171215T0924_305_from_512_thres_1_bmp/29_masked.bmp is a low contrast image\n",
      "  warn('%s is a low contrast image' % fname)\n"
     ]
    },
    {
     "name": "stdout",
     "output_type": "stream",
     "text": [
      "29\n"
     ]
    },
    {
     "name": "stderr",
     "output_type": "stream",
     "text": [
      "/home/nguye590/anaconda2/envs/tensorflow-research/lib/python2.7/site-packages/skimage/io/_io.py:132: UserWarning: /home/nguye590/Research/prip-nguye590/Latent_matching_hub/Segmentation/output_mask/shapes20171215T0924_305_from_512_thres_1_bmp/30_masked.bmp is a low contrast image\n",
      "  warn('%s is a low contrast image' % fname)\n"
     ]
    },
    {
     "name": "stdout",
     "output_type": "stream",
     "text": [
      "30\n"
     ]
    },
    {
     "name": "stderr",
     "output_type": "stream",
     "text": [
      "/home/nguye590/anaconda2/envs/tensorflow-research/lib/python2.7/site-packages/skimage/io/_io.py:132: UserWarning: /home/nguye590/Research/prip-nguye590/Latent_matching_hub/Segmentation/output_mask/shapes20171215T0924_305_from_512_thres_1_bmp/31_masked.bmp is a low contrast image\n",
      "  warn('%s is a low contrast image' % fname)\n"
     ]
    },
    {
     "name": "stdout",
     "output_type": "stream",
     "text": [
      "31\n"
     ]
    },
    {
     "name": "stderr",
     "output_type": "stream",
     "text": [
      "/home/nguye590/anaconda2/envs/tensorflow-research/lib/python2.7/site-packages/skimage/io/_io.py:132: UserWarning: /home/nguye590/Research/prip-nguye590/Latent_matching_hub/Segmentation/output_mask/shapes20171215T0924_305_from_512_thres_1_bmp/32_masked.bmp is a low contrast image\n",
      "  warn('%s is a low contrast image' % fname)\n"
     ]
    },
    {
     "name": "stdout",
     "output_type": "stream",
     "text": [
      "32\n"
     ]
    },
    {
     "name": "stderr",
     "output_type": "stream",
     "text": [
      "/home/nguye590/anaconda2/envs/tensorflow-research/lib/python2.7/site-packages/skimage/io/_io.py:132: UserWarning: /home/nguye590/Research/prip-nguye590/Latent_matching_hub/Segmentation/output_mask/shapes20171215T0924_305_from_512_thres_1_bmp/33_masked.bmp is a low contrast image\n",
      "  warn('%s is a low contrast image' % fname)\n"
     ]
    },
    {
     "name": "stdout",
     "output_type": "stream",
     "text": [
      "33\n"
     ]
    },
    {
     "name": "stderr",
     "output_type": "stream",
     "text": [
      "/home/nguye590/anaconda2/envs/tensorflow-research/lib/python2.7/site-packages/skimage/io/_io.py:132: UserWarning: /home/nguye590/Research/prip-nguye590/Latent_matching_hub/Segmentation/output_mask/shapes20171215T0924_305_from_512_thres_1_bmp/34_masked.bmp is a low contrast image\n",
      "  warn('%s is a low contrast image' % fname)\n"
     ]
    },
    {
     "name": "stdout",
     "output_type": "stream",
     "text": [
      "34\n"
     ]
    },
    {
     "name": "stderr",
     "output_type": "stream",
     "text": [
      "/home/nguye590/anaconda2/envs/tensorflow-research/lib/python2.7/site-packages/skimage/io/_io.py:132: UserWarning: /home/nguye590/Research/prip-nguye590/Latent_matching_hub/Segmentation/output_mask/shapes20171215T0924_305_from_512_thres_1_bmp/35_masked.bmp is a low contrast image\n",
      "  warn('%s is a low contrast image' % fname)\n"
     ]
    },
    {
     "name": "stdout",
     "output_type": "stream",
     "text": [
      "35\n"
     ]
    },
    {
     "name": "stderr",
     "output_type": "stream",
     "text": [
      "/home/nguye590/anaconda2/envs/tensorflow-research/lib/python2.7/site-packages/skimage/io/_io.py:132: UserWarning: /home/nguye590/Research/prip-nguye590/Latent_matching_hub/Segmentation/output_mask/shapes20171215T0924_305_from_512_thres_1_bmp/36_masked.bmp is a low contrast image\n",
      "  warn('%s is a low contrast image' % fname)\n"
     ]
    },
    {
     "name": "stdout",
     "output_type": "stream",
     "text": [
      "36\n"
     ]
    },
    {
     "name": "stderr",
     "output_type": "stream",
     "text": [
      "/home/nguye590/anaconda2/envs/tensorflow-research/lib/python2.7/site-packages/skimage/io/_io.py:132: UserWarning: /home/nguye590/Research/prip-nguye590/Latent_matching_hub/Segmentation/output_mask/shapes20171215T0924_305_from_512_thres_1_bmp/37_masked.bmp is a low contrast image\n",
      "  warn('%s is a low contrast image' % fname)\n"
     ]
    },
    {
     "name": "stdout",
     "output_type": "stream",
     "text": [
      "37\n"
     ]
    },
    {
     "name": "stderr",
     "output_type": "stream",
     "text": [
      "/home/nguye590/anaconda2/envs/tensorflow-research/lib/python2.7/site-packages/skimage/io/_io.py:132: UserWarning: /home/nguye590/Research/prip-nguye590/Latent_matching_hub/Segmentation/output_mask/shapes20171215T0924_305_from_512_thres_1_bmp/38_masked.bmp is a low contrast image\n",
      "  warn('%s is a low contrast image' % fname)\n"
     ]
    },
    {
     "name": "stdout",
     "output_type": "stream",
     "text": [
      "38\n"
     ]
    },
    {
     "name": "stderr",
     "output_type": "stream",
     "text": [
      "/home/nguye590/anaconda2/envs/tensorflow-research/lib/python2.7/site-packages/skimage/io/_io.py:132: UserWarning: /home/nguye590/Research/prip-nguye590/Latent_matching_hub/Segmentation/output_mask/shapes20171215T0924_305_from_512_thres_1_bmp/39_masked.bmp is a low contrast image\n",
      "  warn('%s is a low contrast image' % fname)\n"
     ]
    },
    {
     "name": "stdout",
     "output_type": "stream",
     "text": [
      "39\n"
     ]
    },
    {
     "name": "stderr",
     "output_type": "stream",
     "text": [
      "/home/nguye590/anaconda2/envs/tensorflow-research/lib/python2.7/site-packages/skimage/io/_io.py:132: UserWarning: /home/nguye590/Research/prip-nguye590/Latent_matching_hub/Segmentation/output_mask/shapes20171215T0924_305_from_512_thres_1_bmp/40_masked.bmp is a low contrast image\n",
      "  warn('%s is a low contrast image' % fname)\n"
     ]
    },
    {
     "name": "stdout",
     "output_type": "stream",
     "text": [
      "40\n"
     ]
    },
    {
     "name": "stderr",
     "output_type": "stream",
     "text": [
      "/home/nguye590/anaconda2/envs/tensorflow-research/lib/python2.7/site-packages/skimage/io/_io.py:132: UserWarning: /home/nguye590/Research/prip-nguye590/Latent_matching_hub/Segmentation/output_mask/shapes20171215T0924_305_from_512_thres_1_bmp/41_masked.bmp is a low contrast image\n",
      "  warn('%s is a low contrast image' % fname)\n"
     ]
    },
    {
     "name": "stdout",
     "output_type": "stream",
     "text": [
      "41\n"
     ]
    },
    {
     "name": "stderr",
     "output_type": "stream",
     "text": [
      "/home/nguye590/anaconda2/envs/tensorflow-research/lib/python2.7/site-packages/skimage/io/_io.py:132: UserWarning: /home/nguye590/Research/prip-nguye590/Latent_matching_hub/Segmentation/output_mask/shapes20171215T0924_305_from_512_thres_1_bmp/42_masked.bmp is a low contrast image\n",
      "  warn('%s is a low contrast image' % fname)\n"
     ]
    },
    {
     "name": "stdout",
     "output_type": "stream",
     "text": [
      "42\n"
     ]
    },
    {
     "name": "stderr",
     "output_type": "stream",
     "text": [
      "/home/nguye590/anaconda2/envs/tensorflow-research/lib/python2.7/site-packages/skimage/io/_io.py:132: UserWarning: /home/nguye590/Research/prip-nguye590/Latent_matching_hub/Segmentation/output_mask/shapes20171215T0924_305_from_512_thres_1_bmp/43_masked.bmp is a low contrast image\n",
      "  warn('%s is a low contrast image' % fname)\n"
     ]
    },
    {
     "name": "stdout",
     "output_type": "stream",
     "text": [
      "43\n"
     ]
    },
    {
     "name": "stderr",
     "output_type": "stream",
     "text": [
      "/home/nguye590/anaconda2/envs/tensorflow-research/lib/python2.7/site-packages/skimage/io/_io.py:132: UserWarning: /home/nguye590/Research/prip-nguye590/Latent_matching_hub/Segmentation/output_mask/shapes20171215T0924_305_from_512_thres_1_bmp/44_masked.bmp is a low contrast image\n",
      "  warn('%s is a low contrast image' % fname)\n"
     ]
    },
    {
     "name": "stdout",
     "output_type": "stream",
     "text": [
      "44\n"
     ]
    },
    {
     "name": "stderr",
     "output_type": "stream",
     "text": [
      "/home/nguye590/anaconda2/envs/tensorflow-research/lib/python2.7/site-packages/skimage/io/_io.py:132: UserWarning: /home/nguye590/Research/prip-nguye590/Latent_matching_hub/Segmentation/output_mask/shapes20171215T0924_305_from_512_thres_1_bmp/45_masked.bmp is a low contrast image\n",
      "  warn('%s is a low contrast image' % fname)\n"
     ]
    },
    {
     "name": "stdout",
     "output_type": "stream",
     "text": [
      "45\n"
     ]
    },
    {
     "name": "stderr",
     "output_type": "stream",
     "text": [
      "/home/nguye590/anaconda2/envs/tensorflow-research/lib/python2.7/site-packages/skimage/io/_io.py:132: UserWarning: /home/nguye590/Research/prip-nguye590/Latent_matching_hub/Segmentation/output_mask/shapes20171215T0924_305_from_512_thres_1_bmp/46_masked.bmp is a low contrast image\n",
      "  warn('%s is a low contrast image' % fname)\n"
     ]
    },
    {
     "name": "stdout",
     "output_type": "stream",
     "text": [
      "46\n"
     ]
    },
    {
     "name": "stderr",
     "output_type": "stream",
     "text": [
      "/home/nguye590/anaconda2/envs/tensorflow-research/lib/python2.7/site-packages/skimage/io/_io.py:132: UserWarning: /home/nguye590/Research/prip-nguye590/Latent_matching_hub/Segmentation/output_mask/shapes20171215T0924_305_from_512_thres_1_bmp/47_masked.bmp is a low contrast image\n",
      "  warn('%s is a low contrast image' % fname)\n"
     ]
    },
    {
     "name": "stdout",
     "output_type": "stream",
     "text": [
      "47\n"
     ]
    },
    {
     "name": "stderr",
     "output_type": "stream",
     "text": [
      "/home/nguye590/anaconda2/envs/tensorflow-research/lib/python2.7/site-packages/skimage/io/_io.py:132: UserWarning: /home/nguye590/Research/prip-nguye590/Latent_matching_hub/Segmentation/output_mask/shapes20171215T0924_305_from_512_thres_1_bmp/48_masked.bmp is a low contrast image\n",
      "  warn('%s is a low contrast image' % fname)\n"
     ]
    },
    {
     "name": "stdout",
     "output_type": "stream",
     "text": [
      "48\n"
     ]
    },
    {
     "name": "stderr",
     "output_type": "stream",
     "text": [
      "/home/nguye590/anaconda2/envs/tensorflow-research/lib/python2.7/site-packages/skimage/io/_io.py:132: UserWarning: /home/nguye590/Research/prip-nguye590/Latent_matching_hub/Segmentation/output_mask/shapes20171215T0924_305_from_512_thres_1_bmp/49_masked.bmp is a low contrast image\n",
      "  warn('%s is a low contrast image' % fname)\n"
     ]
    },
    {
     "name": "stdout",
     "output_type": "stream",
     "text": [
      "49\n"
     ]
    },
    {
     "name": "stderr",
     "output_type": "stream",
     "text": [
      "/home/nguye590/anaconda2/envs/tensorflow-research/lib/python2.7/site-packages/skimage/io/_io.py:132: UserWarning: /home/nguye590/Research/prip-nguye590/Latent_matching_hub/Segmentation/output_mask/shapes20171215T0924_305_from_512_thres_1_bmp/50_masked.bmp is a low contrast image\n",
      "  warn('%s is a low contrast image' % fname)\n"
     ]
    },
    {
     "name": "stdout",
     "output_type": "stream",
     "text": [
      "50\n"
     ]
    },
    {
     "name": "stderr",
     "output_type": "stream",
     "text": [
      "/home/nguye590/anaconda2/envs/tensorflow-research/lib/python2.7/site-packages/skimage/io/_io.py:132: UserWarning: /home/nguye590/Research/prip-nguye590/Latent_matching_hub/Segmentation/output_mask/shapes20171215T0924_305_from_512_thres_1_bmp/51_masked.bmp is a low contrast image\n",
      "  warn('%s is a low contrast image' % fname)\n"
     ]
    },
    {
     "name": "stdout",
     "output_type": "stream",
     "text": [
      "51\n"
     ]
    },
    {
     "name": "stderr",
     "output_type": "stream",
     "text": [
      "/home/nguye590/anaconda2/envs/tensorflow-research/lib/python2.7/site-packages/skimage/io/_io.py:132: UserWarning: /home/nguye590/Research/prip-nguye590/Latent_matching_hub/Segmentation/output_mask/shapes20171215T0924_305_from_512_thres_1_bmp/52_masked.bmp is a low contrast image\n",
      "  warn('%s is a low contrast image' % fname)\n"
     ]
    },
    {
     "name": "stdout",
     "output_type": "stream",
     "text": [
      "52\n"
     ]
    },
    {
     "name": "stderr",
     "output_type": "stream",
     "text": [
      "/home/nguye590/anaconda2/envs/tensorflow-research/lib/python2.7/site-packages/skimage/io/_io.py:132: UserWarning: /home/nguye590/Research/prip-nguye590/Latent_matching_hub/Segmentation/output_mask/shapes20171215T0924_305_from_512_thres_1_bmp/53_masked.bmp is a low contrast image\n",
      "  warn('%s is a low contrast image' % fname)\n"
     ]
    },
    {
     "name": "stdout",
     "output_type": "stream",
     "text": [
      "53\n"
     ]
    },
    {
     "name": "stderr",
     "output_type": "stream",
     "text": [
      "/home/nguye590/anaconda2/envs/tensorflow-research/lib/python2.7/site-packages/skimage/io/_io.py:132: UserWarning: /home/nguye590/Research/prip-nguye590/Latent_matching_hub/Segmentation/output_mask/shapes20171215T0924_305_from_512_thres_1_bmp/54_masked.bmp is a low contrast image\n",
      "  warn('%s is a low contrast image' % fname)\n"
     ]
    },
    {
     "name": "stdout",
     "output_type": "stream",
     "text": [
      "54\n"
     ]
    },
    {
     "name": "stderr",
     "output_type": "stream",
     "text": [
      "/home/nguye590/anaconda2/envs/tensorflow-research/lib/python2.7/site-packages/skimage/io/_io.py:132: UserWarning: /home/nguye590/Research/prip-nguye590/Latent_matching_hub/Segmentation/output_mask/shapes20171215T0924_305_from_512_thres_1_bmp/55_masked.bmp is a low contrast image\n",
      "  warn('%s is a low contrast image' % fname)\n"
     ]
    },
    {
     "name": "stdout",
     "output_type": "stream",
     "text": [
      "55\n"
     ]
    },
    {
     "name": "stderr",
     "output_type": "stream",
     "text": [
      "/home/nguye590/anaconda2/envs/tensorflow-research/lib/python2.7/site-packages/skimage/io/_io.py:132: UserWarning: /home/nguye590/Research/prip-nguye590/Latent_matching_hub/Segmentation/output_mask/shapes20171215T0924_305_from_512_thres_1_bmp/56_masked.bmp is a low contrast image\n",
      "  warn('%s is a low contrast image' % fname)\n"
     ]
    },
    {
     "name": "stdout",
     "output_type": "stream",
     "text": [
      "56\n"
     ]
    },
    {
     "name": "stderr",
     "output_type": "stream",
     "text": [
      "/home/nguye590/anaconda2/envs/tensorflow-research/lib/python2.7/site-packages/skimage/io/_io.py:132: UserWarning: /home/nguye590/Research/prip-nguye590/Latent_matching_hub/Segmentation/output_mask/shapes20171215T0924_305_from_512_thres_1_bmp/57_masked.bmp is a low contrast image\n",
      "  warn('%s is a low contrast image' % fname)\n"
     ]
    },
    {
     "name": "stdout",
     "output_type": "stream",
     "text": [
      "57\n"
     ]
    },
    {
     "name": "stderr",
     "output_type": "stream",
     "text": [
      "/home/nguye590/anaconda2/envs/tensorflow-research/lib/python2.7/site-packages/skimage/io/_io.py:132: UserWarning: /home/nguye590/Research/prip-nguye590/Latent_matching_hub/Segmentation/output_mask/shapes20171215T0924_305_from_512_thres_1_bmp/58_masked.bmp is a low contrast image\n",
      "  warn('%s is a low contrast image' % fname)\n"
     ]
    },
    {
     "name": "stdout",
     "output_type": "stream",
     "text": [
      "58\n"
     ]
    },
    {
     "name": "stderr",
     "output_type": "stream",
     "text": [
      "/home/nguye590/anaconda2/envs/tensorflow-research/lib/python2.7/site-packages/skimage/io/_io.py:132: UserWarning: /home/nguye590/Research/prip-nguye590/Latent_matching_hub/Segmentation/output_mask/shapes20171215T0924_305_from_512_thres_1_bmp/59_masked.bmp is a low contrast image\n",
      "  warn('%s is a low contrast image' % fname)\n"
     ]
    },
    {
     "name": "stdout",
     "output_type": "stream",
     "text": [
      "59\n"
     ]
    },
    {
     "name": "stderr",
     "output_type": "stream",
     "text": [
      "/home/nguye590/anaconda2/envs/tensorflow-research/lib/python2.7/site-packages/skimage/io/_io.py:132: UserWarning: /home/nguye590/Research/prip-nguye590/Latent_matching_hub/Segmentation/output_mask/shapes20171215T0924_305_from_512_thres_1_bmp/60_masked.bmp is a low contrast image\n",
      "  warn('%s is a low contrast image' % fname)\n"
     ]
    },
    {
     "name": "stdout",
     "output_type": "stream",
     "text": [
      "60\n"
     ]
    },
    {
     "name": "stderr",
     "output_type": "stream",
     "text": [
      "/home/nguye590/anaconda2/envs/tensorflow-research/lib/python2.7/site-packages/skimage/io/_io.py:132: UserWarning: /home/nguye590/Research/prip-nguye590/Latent_matching_hub/Segmentation/output_mask/shapes20171215T0924_305_from_512_thres_1_bmp/61_masked.bmp is a low contrast image\n",
      "  warn('%s is a low contrast image' % fname)\n"
     ]
    },
    {
     "name": "stdout",
     "output_type": "stream",
     "text": [
      "61\n"
     ]
    },
    {
     "name": "stderr",
     "output_type": "stream",
     "text": [
      "/home/nguye590/anaconda2/envs/tensorflow-research/lib/python2.7/site-packages/skimage/io/_io.py:132: UserWarning: /home/nguye590/Research/prip-nguye590/Latent_matching_hub/Segmentation/output_mask/shapes20171215T0924_305_from_512_thres_1_bmp/62_masked.bmp is a low contrast image\n",
      "  warn('%s is a low contrast image' % fname)\n"
     ]
    },
    {
     "name": "stdout",
     "output_type": "stream",
     "text": [
      "62\n"
     ]
    },
    {
     "name": "stderr",
     "output_type": "stream",
     "text": [
      "/home/nguye590/anaconda2/envs/tensorflow-research/lib/python2.7/site-packages/skimage/io/_io.py:132: UserWarning: /home/nguye590/Research/prip-nguye590/Latent_matching_hub/Segmentation/output_mask/shapes20171215T0924_305_from_512_thres_1_bmp/63_masked.bmp is a low contrast image\n",
      "  warn('%s is a low contrast image' % fname)\n"
     ]
    },
    {
     "name": "stdout",
     "output_type": "stream",
     "text": [
      "63\n"
     ]
    },
    {
     "name": "stderr",
     "output_type": "stream",
     "text": [
      "/home/nguye590/anaconda2/envs/tensorflow-research/lib/python2.7/site-packages/skimage/io/_io.py:132: UserWarning: /home/nguye590/Research/prip-nguye590/Latent_matching_hub/Segmentation/output_mask/shapes20171215T0924_305_from_512_thres_1_bmp/64_masked.bmp is a low contrast image\n",
      "  warn('%s is a low contrast image' % fname)\n"
     ]
    },
    {
     "name": "stdout",
     "output_type": "stream",
     "text": [
      "64\n"
     ]
    },
    {
     "name": "stderr",
     "output_type": "stream",
     "text": [
      "/home/nguye590/anaconda2/envs/tensorflow-research/lib/python2.7/site-packages/skimage/io/_io.py:132: UserWarning: /home/nguye590/Research/prip-nguye590/Latent_matching_hub/Segmentation/output_mask/shapes20171215T0924_305_from_512_thres_1_bmp/65_masked.bmp is a low contrast image\n",
      "  warn('%s is a low contrast image' % fname)\n"
     ]
    },
    {
     "name": "stdout",
     "output_type": "stream",
     "text": [
      "65\n"
     ]
    },
    {
     "name": "stderr",
     "output_type": "stream",
     "text": [
      "/home/nguye590/anaconda2/envs/tensorflow-research/lib/python2.7/site-packages/skimage/io/_io.py:132: UserWarning: /home/nguye590/Research/prip-nguye590/Latent_matching_hub/Segmentation/output_mask/shapes20171215T0924_305_from_512_thres_1_bmp/66_masked.bmp is a low contrast image\n",
      "  warn('%s is a low contrast image' % fname)\n"
     ]
    },
    {
     "name": "stdout",
     "output_type": "stream",
     "text": [
      "66\n"
     ]
    },
    {
     "name": "stderr",
     "output_type": "stream",
     "text": [
      "/home/nguye590/anaconda2/envs/tensorflow-research/lib/python2.7/site-packages/skimage/io/_io.py:132: UserWarning: /home/nguye590/Research/prip-nguye590/Latent_matching_hub/Segmentation/output_mask/shapes20171215T0924_305_from_512_thres_1_bmp/67_masked.bmp is a low contrast image\n",
      "  warn('%s is a low contrast image' % fname)\n"
     ]
    },
    {
     "name": "stdout",
     "output_type": "stream",
     "text": [
      "67\n"
     ]
    },
    {
     "name": "stderr",
     "output_type": "stream",
     "text": [
      "/home/nguye590/anaconda2/envs/tensorflow-research/lib/python2.7/site-packages/skimage/io/_io.py:132: UserWarning: /home/nguye590/Research/prip-nguye590/Latent_matching_hub/Segmentation/output_mask/shapes20171215T0924_305_from_512_thres_1_bmp/68_masked.bmp is a low contrast image\n",
      "  warn('%s is a low contrast image' % fname)\n"
     ]
    },
    {
     "name": "stdout",
     "output_type": "stream",
     "text": [
      "68\n"
     ]
    },
    {
     "name": "stderr",
     "output_type": "stream",
     "text": [
      "/home/nguye590/anaconda2/envs/tensorflow-research/lib/python2.7/site-packages/skimage/io/_io.py:132: UserWarning: /home/nguye590/Research/prip-nguye590/Latent_matching_hub/Segmentation/output_mask/shapes20171215T0924_305_from_512_thres_1_bmp/69_masked.bmp is a low contrast image\n",
      "  warn('%s is a low contrast image' % fname)\n"
     ]
    },
    {
     "name": "stdout",
     "output_type": "stream",
     "text": [
      "69\n"
     ]
    },
    {
     "name": "stderr",
     "output_type": "stream",
     "text": [
      "/home/nguye590/anaconda2/envs/tensorflow-research/lib/python2.7/site-packages/skimage/io/_io.py:132: UserWarning: /home/nguye590/Research/prip-nguye590/Latent_matching_hub/Segmentation/output_mask/shapes20171215T0924_305_from_512_thres_1_bmp/70_masked.bmp is a low contrast image\n",
      "  warn('%s is a low contrast image' % fname)\n"
     ]
    },
    {
     "name": "stdout",
     "output_type": "stream",
     "text": [
      "70\n"
     ]
    },
    {
     "name": "stderr",
     "output_type": "stream",
     "text": [
      "/home/nguye590/anaconda2/envs/tensorflow-research/lib/python2.7/site-packages/skimage/io/_io.py:132: UserWarning: /home/nguye590/Research/prip-nguye590/Latent_matching_hub/Segmentation/output_mask/shapes20171215T0924_305_from_512_thres_1_bmp/71_masked.bmp is a low contrast image\n",
      "  warn('%s is a low contrast image' % fname)\n"
     ]
    },
    {
     "name": "stdout",
     "output_type": "stream",
     "text": [
      "71\n"
     ]
    },
    {
     "name": "stderr",
     "output_type": "stream",
     "text": [
      "/home/nguye590/anaconda2/envs/tensorflow-research/lib/python2.7/site-packages/skimage/io/_io.py:132: UserWarning: /home/nguye590/Research/prip-nguye590/Latent_matching_hub/Segmentation/output_mask/shapes20171215T0924_305_from_512_thres_1_bmp/72_masked.bmp is a low contrast image\n",
      "  warn('%s is a low contrast image' % fname)\n"
     ]
    },
    {
     "name": "stdout",
     "output_type": "stream",
     "text": [
      "72\n"
     ]
    },
    {
     "name": "stderr",
     "output_type": "stream",
     "text": [
      "/home/nguye590/anaconda2/envs/tensorflow-research/lib/python2.7/site-packages/skimage/io/_io.py:132: UserWarning: /home/nguye590/Research/prip-nguye590/Latent_matching_hub/Segmentation/output_mask/shapes20171215T0924_305_from_512_thres_1_bmp/73_masked.bmp is a low contrast image\n",
      "  warn('%s is a low contrast image' % fname)\n"
     ]
    },
    {
     "name": "stdout",
     "output_type": "stream",
     "text": [
      "73\n"
     ]
    },
    {
     "name": "stderr",
     "output_type": "stream",
     "text": [
      "/home/nguye590/anaconda2/envs/tensorflow-research/lib/python2.7/site-packages/skimage/io/_io.py:132: UserWarning: /home/nguye590/Research/prip-nguye590/Latent_matching_hub/Segmentation/output_mask/shapes20171215T0924_305_from_512_thres_1_bmp/74_masked.bmp is a low contrast image\n",
      "  warn('%s is a low contrast image' % fname)\n"
     ]
    },
    {
     "name": "stdout",
     "output_type": "stream",
     "text": [
      "74\n"
     ]
    },
    {
     "name": "stderr",
     "output_type": "stream",
     "text": [
      "/home/nguye590/anaconda2/envs/tensorflow-research/lib/python2.7/site-packages/skimage/io/_io.py:132: UserWarning: /home/nguye590/Research/prip-nguye590/Latent_matching_hub/Segmentation/output_mask/shapes20171215T0924_305_from_512_thres_1_bmp/75_masked.bmp is a low contrast image\n",
      "  warn('%s is a low contrast image' % fname)\n"
     ]
    },
    {
     "name": "stdout",
     "output_type": "stream",
     "text": [
      "75\n"
     ]
    },
    {
     "name": "stderr",
     "output_type": "stream",
     "text": [
      "/home/nguye590/anaconda2/envs/tensorflow-research/lib/python2.7/site-packages/skimage/io/_io.py:132: UserWarning: /home/nguye590/Research/prip-nguye590/Latent_matching_hub/Segmentation/output_mask/shapes20171215T0924_305_from_512_thres_1_bmp/76_masked.bmp is a low contrast image\n",
      "  warn('%s is a low contrast image' % fname)\n"
     ]
    },
    {
     "name": "stdout",
     "output_type": "stream",
     "text": [
      "76\n"
     ]
    },
    {
     "name": "stderr",
     "output_type": "stream",
     "text": [
      "/home/nguye590/anaconda2/envs/tensorflow-research/lib/python2.7/site-packages/skimage/io/_io.py:132: UserWarning: /home/nguye590/Research/prip-nguye590/Latent_matching_hub/Segmentation/output_mask/shapes20171215T0924_305_from_512_thres_1_bmp/77_masked.bmp is a low contrast image\n",
      "  warn('%s is a low contrast image' % fname)\n"
     ]
    },
    {
     "name": "stdout",
     "output_type": "stream",
     "text": [
      "77\n"
     ]
    },
    {
     "name": "stderr",
     "output_type": "stream",
     "text": [
      "/home/nguye590/anaconda2/envs/tensorflow-research/lib/python2.7/site-packages/skimage/io/_io.py:132: UserWarning: /home/nguye590/Research/prip-nguye590/Latent_matching_hub/Segmentation/output_mask/shapes20171215T0924_305_from_512_thres_1_bmp/78_masked.bmp is a low contrast image\n",
      "  warn('%s is a low contrast image' % fname)\n"
     ]
    },
    {
     "name": "stdout",
     "output_type": "stream",
     "text": [
      "78\n"
     ]
    },
    {
     "name": "stderr",
     "output_type": "stream",
     "text": [
      "/home/nguye590/anaconda2/envs/tensorflow-research/lib/python2.7/site-packages/skimage/io/_io.py:132: UserWarning: /home/nguye590/Research/prip-nguye590/Latent_matching_hub/Segmentation/output_mask/shapes20171215T0924_305_from_512_thres_1_bmp/79_masked.bmp is a low contrast image\n",
      "  warn('%s is a low contrast image' % fname)\n"
     ]
    },
    {
     "name": "stdout",
     "output_type": "stream",
     "text": [
      "79\n"
     ]
    },
    {
     "name": "stderr",
     "output_type": "stream",
     "text": [
      "/home/nguye590/anaconda2/envs/tensorflow-research/lib/python2.7/site-packages/skimage/io/_io.py:132: UserWarning: /home/nguye590/Research/prip-nguye590/Latent_matching_hub/Segmentation/output_mask/shapes20171215T0924_305_from_512_thres_1_bmp/80_masked.bmp is a low contrast image\n",
      "  warn('%s is a low contrast image' % fname)\n"
     ]
    },
    {
     "name": "stdout",
     "output_type": "stream",
     "text": [
      "80\n"
     ]
    },
    {
     "name": "stderr",
     "output_type": "stream",
     "text": [
      "/home/nguye590/anaconda2/envs/tensorflow-research/lib/python2.7/site-packages/skimage/io/_io.py:132: UserWarning: /home/nguye590/Research/prip-nguye590/Latent_matching_hub/Segmentation/output_mask/shapes20171215T0924_305_from_512_thres_1_bmp/81_masked.bmp is a low contrast image\n",
      "  warn('%s is a low contrast image' % fname)\n"
     ]
    },
    {
     "name": "stdout",
     "output_type": "stream",
     "text": [
      "81\n"
     ]
    },
    {
     "name": "stderr",
     "output_type": "stream",
     "text": [
      "/home/nguye590/anaconda2/envs/tensorflow-research/lib/python2.7/site-packages/skimage/io/_io.py:132: UserWarning: /home/nguye590/Research/prip-nguye590/Latent_matching_hub/Segmentation/output_mask/shapes20171215T0924_305_from_512_thres_1_bmp/82_masked.bmp is a low contrast image\n",
      "  warn('%s is a low contrast image' % fname)\n"
     ]
    },
    {
     "name": "stdout",
     "output_type": "stream",
     "text": [
      "82\n"
     ]
    },
    {
     "name": "stderr",
     "output_type": "stream",
     "text": [
      "/home/nguye590/anaconda2/envs/tensorflow-research/lib/python2.7/site-packages/skimage/io/_io.py:132: UserWarning: /home/nguye590/Research/prip-nguye590/Latent_matching_hub/Segmentation/output_mask/shapes20171215T0924_305_from_512_thres_1_bmp/83_masked.bmp is a low contrast image\n",
      "  warn('%s is a low contrast image' % fname)\n"
     ]
    },
    {
     "name": "stdout",
     "output_type": "stream",
     "text": [
      "83\n"
     ]
    },
    {
     "name": "stderr",
     "output_type": "stream",
     "text": [
      "/home/nguye590/anaconda2/envs/tensorflow-research/lib/python2.7/site-packages/skimage/io/_io.py:132: UserWarning: /home/nguye590/Research/prip-nguye590/Latent_matching_hub/Segmentation/output_mask/shapes20171215T0924_305_from_512_thres_1_bmp/84_masked.bmp is a low contrast image\n",
      "  warn('%s is a low contrast image' % fname)\n"
     ]
    },
    {
     "name": "stdout",
     "output_type": "stream",
     "text": [
      "84\n"
     ]
    },
    {
     "name": "stderr",
     "output_type": "stream",
     "text": [
      "/home/nguye590/anaconda2/envs/tensorflow-research/lib/python2.7/site-packages/skimage/io/_io.py:132: UserWarning: /home/nguye590/Research/prip-nguye590/Latent_matching_hub/Segmentation/output_mask/shapes20171215T0924_305_from_512_thres_1_bmp/85_masked.bmp is a low contrast image\n",
      "  warn('%s is a low contrast image' % fname)\n"
     ]
    },
    {
     "name": "stdout",
     "output_type": "stream",
     "text": [
      "85\n"
     ]
    },
    {
     "name": "stderr",
     "output_type": "stream",
     "text": [
      "/home/nguye590/anaconda2/envs/tensorflow-research/lib/python2.7/site-packages/skimage/io/_io.py:132: UserWarning: /home/nguye590/Research/prip-nguye590/Latent_matching_hub/Segmentation/output_mask/shapes20171215T0924_305_from_512_thres_1_bmp/86_masked.bmp is a low contrast image\n",
      "  warn('%s is a low contrast image' % fname)\n"
     ]
    },
    {
     "name": "stdout",
     "output_type": "stream",
     "text": [
      "86\n"
     ]
    },
    {
     "name": "stderr",
     "output_type": "stream",
     "text": [
      "/home/nguye590/anaconda2/envs/tensorflow-research/lib/python2.7/site-packages/skimage/io/_io.py:132: UserWarning: /home/nguye590/Research/prip-nguye590/Latent_matching_hub/Segmentation/output_mask/shapes20171215T0924_305_from_512_thres_1_bmp/87_masked.bmp is a low contrast image\n",
      "  warn('%s is a low contrast image' % fname)\n"
     ]
    },
    {
     "name": "stdout",
     "output_type": "stream",
     "text": [
      "87\n"
     ]
    },
    {
     "name": "stderr",
     "output_type": "stream",
     "text": [
      "/home/nguye590/anaconda2/envs/tensorflow-research/lib/python2.7/site-packages/skimage/io/_io.py:132: UserWarning: /home/nguye590/Research/prip-nguye590/Latent_matching_hub/Segmentation/output_mask/shapes20171215T0924_305_from_512_thres_1_bmp/88_masked.bmp is a low contrast image\n",
      "  warn('%s is a low contrast image' % fname)\n"
     ]
    },
    {
     "name": "stdout",
     "output_type": "stream",
     "text": [
      "88\n"
     ]
    },
    {
     "name": "stderr",
     "output_type": "stream",
     "text": [
      "/home/nguye590/anaconda2/envs/tensorflow-research/lib/python2.7/site-packages/skimage/io/_io.py:132: UserWarning: /home/nguye590/Research/prip-nguye590/Latent_matching_hub/Segmentation/output_mask/shapes20171215T0924_305_from_512_thres_1_bmp/89_masked.bmp is a low contrast image\n",
      "  warn('%s is a low contrast image' % fname)\n"
     ]
    },
    {
     "name": "stdout",
     "output_type": "stream",
     "text": [
      "89\n"
     ]
    },
    {
     "name": "stderr",
     "output_type": "stream",
     "text": [
      "/home/nguye590/anaconda2/envs/tensorflow-research/lib/python2.7/site-packages/skimage/io/_io.py:132: UserWarning: /home/nguye590/Research/prip-nguye590/Latent_matching_hub/Segmentation/output_mask/shapes20171215T0924_305_from_512_thres_1_bmp/90_masked.bmp is a low contrast image\n",
      "  warn('%s is a low contrast image' % fname)\n"
     ]
    },
    {
     "name": "stdout",
     "output_type": "stream",
     "text": [
      "90\n"
     ]
    },
    {
     "name": "stderr",
     "output_type": "stream",
     "text": [
      "/home/nguye590/anaconda2/envs/tensorflow-research/lib/python2.7/site-packages/skimage/io/_io.py:132: UserWarning: /home/nguye590/Research/prip-nguye590/Latent_matching_hub/Segmentation/output_mask/shapes20171215T0924_305_from_512_thres_1_bmp/91_masked.bmp is a low contrast image\n",
      "  warn('%s is a low contrast image' % fname)\n"
     ]
    },
    {
     "name": "stdout",
     "output_type": "stream",
     "text": [
      "91\n"
     ]
    },
    {
     "name": "stderr",
     "output_type": "stream",
     "text": [
      "/home/nguye590/anaconda2/envs/tensorflow-research/lib/python2.7/site-packages/skimage/io/_io.py:132: UserWarning: /home/nguye590/Research/prip-nguye590/Latent_matching_hub/Segmentation/output_mask/shapes20171215T0924_305_from_512_thres_1_bmp/92_masked.bmp is a low contrast image\n",
      "  warn('%s is a low contrast image' % fname)\n"
     ]
    },
    {
     "name": "stdout",
     "output_type": "stream",
     "text": [
      "92\n"
     ]
    },
    {
     "name": "stderr",
     "output_type": "stream",
     "text": [
      "/home/nguye590/anaconda2/envs/tensorflow-research/lib/python2.7/site-packages/skimage/io/_io.py:132: UserWarning: /home/nguye590/Research/prip-nguye590/Latent_matching_hub/Segmentation/output_mask/shapes20171215T0924_305_from_512_thres_1_bmp/93_masked.bmp is a low contrast image\n",
      "  warn('%s is a low contrast image' % fname)\n"
     ]
    },
    {
     "name": "stdout",
     "output_type": "stream",
     "text": [
      "93\n"
     ]
    },
    {
     "name": "stderr",
     "output_type": "stream",
     "text": [
      "/home/nguye590/anaconda2/envs/tensorflow-research/lib/python2.7/site-packages/skimage/io/_io.py:132: UserWarning: /home/nguye590/Research/prip-nguye590/Latent_matching_hub/Segmentation/output_mask/shapes20171215T0924_305_from_512_thres_1_bmp/94_masked.bmp is a low contrast image\n",
      "  warn('%s is a low contrast image' % fname)\n"
     ]
    },
    {
     "name": "stdout",
     "output_type": "stream",
     "text": [
      "94\n"
     ]
    },
    {
     "name": "stderr",
     "output_type": "stream",
     "text": [
      "/home/nguye590/anaconda2/envs/tensorflow-research/lib/python2.7/site-packages/skimage/io/_io.py:132: UserWarning: /home/nguye590/Research/prip-nguye590/Latent_matching_hub/Segmentation/output_mask/shapes20171215T0924_305_from_512_thres_1_bmp/95_masked.bmp is a low contrast image\n",
      "  warn('%s is a low contrast image' % fname)\n"
     ]
    },
    {
     "name": "stdout",
     "output_type": "stream",
     "text": [
      "95\n"
     ]
    },
    {
     "name": "stderr",
     "output_type": "stream",
     "text": [
      "/home/nguye590/anaconda2/envs/tensorflow-research/lib/python2.7/site-packages/skimage/io/_io.py:132: UserWarning: /home/nguye590/Research/prip-nguye590/Latent_matching_hub/Segmentation/output_mask/shapes20171215T0924_305_from_512_thres_1_bmp/96_masked.bmp is a low contrast image\n",
      "  warn('%s is a low contrast image' % fname)\n"
     ]
    },
    {
     "name": "stdout",
     "output_type": "stream",
     "text": [
      "96\n"
     ]
    },
    {
     "name": "stderr",
     "output_type": "stream",
     "text": [
      "/home/nguye590/anaconda2/envs/tensorflow-research/lib/python2.7/site-packages/skimage/io/_io.py:132: UserWarning: /home/nguye590/Research/prip-nguye590/Latent_matching_hub/Segmentation/output_mask/shapes20171215T0924_305_from_512_thres_1_bmp/97_masked.bmp is a low contrast image\n",
      "  warn('%s is a low contrast image' % fname)\n"
     ]
    },
    {
     "name": "stdout",
     "output_type": "stream",
     "text": [
      "97\n"
     ]
    },
    {
     "name": "stderr",
     "output_type": "stream",
     "text": [
      "/home/nguye590/anaconda2/envs/tensorflow-research/lib/python2.7/site-packages/skimage/io/_io.py:132: UserWarning: /home/nguye590/Research/prip-nguye590/Latent_matching_hub/Segmentation/output_mask/shapes20171215T0924_305_from_512_thres_1_bmp/98_masked.bmp is a low contrast image\n",
      "  warn('%s is a low contrast image' % fname)\n"
     ]
    },
    {
     "name": "stdout",
     "output_type": "stream",
     "text": [
      "98\n"
     ]
    },
    {
     "name": "stderr",
     "output_type": "stream",
     "text": [
      "/home/nguye590/anaconda2/envs/tensorflow-research/lib/python2.7/site-packages/skimage/io/_io.py:132: UserWarning: /home/nguye590/Research/prip-nguye590/Latent_matching_hub/Segmentation/output_mask/shapes20171215T0924_305_from_512_thres_1_bmp/99_masked.bmp is a low contrast image\n",
      "  warn('%s is a low contrast image' % fname)\n"
     ]
    },
    {
     "name": "stdout",
     "output_type": "stream",
     "text": [
      "99\n"
     ]
    },
    {
     "name": "stderr",
     "output_type": "stream",
     "text": [
      "/home/nguye590/anaconda2/envs/tensorflow-research/lib/python2.7/site-packages/skimage/io/_io.py:132: UserWarning: /home/nguye590/Research/prip-nguye590/Latent_matching_hub/Segmentation/output_mask/shapes20171215T0924_305_from_512_thres_1_bmp/100_masked.bmp is a low contrast image\n",
      "  warn('%s is a low contrast image' % fname)\n"
     ]
    },
    {
     "name": "stdout",
     "output_type": "stream",
     "text": [
      "100\n"
     ]
    },
    {
     "name": "stderr",
     "output_type": "stream",
     "text": [
      "/home/nguye590/anaconda2/envs/tensorflow-research/lib/python2.7/site-packages/skimage/io/_io.py:132: UserWarning: /home/nguye590/Research/prip-nguye590/Latent_matching_hub/Segmentation/output_mask/shapes20171215T0924_305_from_512_thres_1_bmp/101_masked.bmp is a low contrast image\n",
      "  warn('%s is a low contrast image' % fname)\n"
     ]
    },
    {
     "name": "stdout",
     "output_type": "stream",
     "text": [
      "101\n"
     ]
    },
    {
     "name": "stderr",
     "output_type": "stream",
     "text": [
      "/home/nguye590/anaconda2/envs/tensorflow-research/lib/python2.7/site-packages/skimage/io/_io.py:132: UserWarning: /home/nguye590/Research/prip-nguye590/Latent_matching_hub/Segmentation/output_mask/shapes20171215T0924_305_from_512_thres_1_bmp/102_masked.bmp is a low contrast image\n",
      "  warn('%s is a low contrast image' % fname)\n"
     ]
    },
    {
     "name": "stdout",
     "output_type": "stream",
     "text": [
      "102\n"
     ]
    },
    {
     "name": "stderr",
     "output_type": "stream",
     "text": [
      "/home/nguye590/anaconda2/envs/tensorflow-research/lib/python2.7/site-packages/skimage/io/_io.py:132: UserWarning: /home/nguye590/Research/prip-nguye590/Latent_matching_hub/Segmentation/output_mask/shapes20171215T0924_305_from_512_thres_1_bmp/103_masked.bmp is a low contrast image\n",
      "  warn('%s is a low contrast image' % fname)\n"
     ]
    },
    {
     "name": "stdout",
     "output_type": "stream",
     "text": [
      "103\n"
     ]
    },
    {
     "name": "stderr",
     "output_type": "stream",
     "text": [
      "/home/nguye590/anaconda2/envs/tensorflow-research/lib/python2.7/site-packages/skimage/io/_io.py:132: UserWarning: /home/nguye590/Research/prip-nguye590/Latent_matching_hub/Segmentation/output_mask/shapes20171215T0924_305_from_512_thres_1_bmp/104_masked.bmp is a low contrast image\n",
      "  warn('%s is a low contrast image' % fname)\n"
     ]
    },
    {
     "name": "stdout",
     "output_type": "stream",
     "text": [
      "104\n"
     ]
    },
    {
     "name": "stderr",
     "output_type": "stream",
     "text": [
      "/home/nguye590/anaconda2/envs/tensorflow-research/lib/python2.7/site-packages/skimage/io/_io.py:132: UserWarning: /home/nguye590/Research/prip-nguye590/Latent_matching_hub/Segmentation/output_mask/shapes20171215T0924_305_from_512_thres_1_bmp/105_masked.bmp is a low contrast image\n",
      "  warn('%s is a low contrast image' % fname)\n"
     ]
    },
    {
     "name": "stdout",
     "output_type": "stream",
     "text": [
      "105\n"
     ]
    },
    {
     "name": "stderr",
     "output_type": "stream",
     "text": [
      "/home/nguye590/anaconda2/envs/tensorflow-research/lib/python2.7/site-packages/skimage/io/_io.py:132: UserWarning: /home/nguye590/Research/prip-nguye590/Latent_matching_hub/Segmentation/output_mask/shapes20171215T0924_305_from_512_thres_1_bmp/106_masked.bmp is a low contrast image\n",
      "  warn('%s is a low contrast image' % fname)\n"
     ]
    },
    {
     "name": "stdout",
     "output_type": "stream",
     "text": [
      "106\n"
     ]
    },
    {
     "name": "stderr",
     "output_type": "stream",
     "text": [
      "/home/nguye590/anaconda2/envs/tensorflow-research/lib/python2.7/site-packages/skimage/io/_io.py:132: UserWarning: /home/nguye590/Research/prip-nguye590/Latent_matching_hub/Segmentation/output_mask/shapes20171215T0924_305_from_512_thres_1_bmp/107_masked.bmp is a low contrast image\n",
      "  warn('%s is a low contrast image' % fname)\n"
     ]
    },
    {
     "name": "stdout",
     "output_type": "stream",
     "text": [
      "107\n"
     ]
    },
    {
     "name": "stderr",
     "output_type": "stream",
     "text": [
      "/home/nguye590/anaconda2/envs/tensorflow-research/lib/python2.7/site-packages/skimage/io/_io.py:132: UserWarning: /home/nguye590/Research/prip-nguye590/Latent_matching_hub/Segmentation/output_mask/shapes20171215T0924_305_from_512_thres_1_bmp/108_masked.bmp is a low contrast image\n",
      "  warn('%s is a low contrast image' % fname)\n"
     ]
    },
    {
     "name": "stdout",
     "output_type": "stream",
     "text": [
      "108\n"
     ]
    },
    {
     "name": "stderr",
     "output_type": "stream",
     "text": [
      "/home/nguye590/anaconda2/envs/tensorflow-research/lib/python2.7/site-packages/skimage/io/_io.py:132: UserWarning: /home/nguye590/Research/prip-nguye590/Latent_matching_hub/Segmentation/output_mask/shapes20171215T0924_305_from_512_thres_1_bmp/109_masked.bmp is a low contrast image\n",
      "  warn('%s is a low contrast image' % fname)\n"
     ]
    },
    {
     "name": "stdout",
     "output_type": "stream",
     "text": [
      "109\n"
     ]
    },
    {
     "name": "stderr",
     "output_type": "stream",
     "text": [
      "/home/nguye590/anaconda2/envs/tensorflow-research/lib/python2.7/site-packages/skimage/io/_io.py:132: UserWarning: /home/nguye590/Research/prip-nguye590/Latent_matching_hub/Segmentation/output_mask/shapes20171215T0924_305_from_512_thres_1_bmp/110_masked.bmp is a low contrast image\n",
      "  warn('%s is a low contrast image' % fname)\n"
     ]
    },
    {
     "name": "stdout",
     "output_type": "stream",
     "text": [
      "110\n"
     ]
    },
    {
     "name": "stderr",
     "output_type": "stream",
     "text": [
      "/home/nguye590/anaconda2/envs/tensorflow-research/lib/python2.7/site-packages/skimage/io/_io.py:132: UserWarning: /home/nguye590/Research/prip-nguye590/Latent_matching_hub/Segmentation/output_mask/shapes20171215T0924_305_from_512_thres_1_bmp/111_masked.bmp is a low contrast image\n",
      "  warn('%s is a low contrast image' % fname)\n"
     ]
    },
    {
     "name": "stdout",
     "output_type": "stream",
     "text": [
      "111\n"
     ]
    },
    {
     "name": "stderr",
     "output_type": "stream",
     "text": [
      "/home/nguye590/anaconda2/envs/tensorflow-research/lib/python2.7/site-packages/skimage/io/_io.py:132: UserWarning: /home/nguye590/Research/prip-nguye590/Latent_matching_hub/Segmentation/output_mask/shapes20171215T0924_305_from_512_thres_1_bmp/112_masked.bmp is a low contrast image\n",
      "  warn('%s is a low contrast image' % fname)\n"
     ]
    },
    {
     "name": "stdout",
     "output_type": "stream",
     "text": [
      "112\n"
     ]
    },
    {
     "name": "stderr",
     "output_type": "stream",
     "text": [
      "/home/nguye590/anaconda2/envs/tensorflow-research/lib/python2.7/site-packages/skimage/io/_io.py:132: UserWarning: /home/nguye590/Research/prip-nguye590/Latent_matching_hub/Segmentation/output_mask/shapes20171215T0924_305_from_512_thres_1_bmp/113_masked.bmp is a low contrast image\n",
      "  warn('%s is a low contrast image' % fname)\n"
     ]
    },
    {
     "name": "stdout",
     "output_type": "stream",
     "text": [
      "113\n"
     ]
    },
    {
     "name": "stderr",
     "output_type": "stream",
     "text": [
      "/home/nguye590/anaconda2/envs/tensorflow-research/lib/python2.7/site-packages/skimage/io/_io.py:132: UserWarning: /home/nguye590/Research/prip-nguye590/Latent_matching_hub/Segmentation/output_mask/shapes20171215T0924_305_from_512_thres_1_bmp/114_masked.bmp is a low contrast image\n",
      "  warn('%s is a low contrast image' % fname)\n"
     ]
    },
    {
     "name": "stdout",
     "output_type": "stream",
     "text": [
      "114\n"
     ]
    },
    {
     "name": "stderr",
     "output_type": "stream",
     "text": [
      "/home/nguye590/anaconda2/envs/tensorflow-research/lib/python2.7/site-packages/skimage/io/_io.py:132: UserWarning: /home/nguye590/Research/prip-nguye590/Latent_matching_hub/Segmentation/output_mask/shapes20171215T0924_305_from_512_thres_1_bmp/115_masked.bmp is a low contrast image\n",
      "  warn('%s is a low contrast image' % fname)\n"
     ]
    },
    {
     "name": "stdout",
     "output_type": "stream",
     "text": [
      "115\n"
     ]
    },
    {
     "name": "stderr",
     "output_type": "stream",
     "text": [
      "/home/nguye590/anaconda2/envs/tensorflow-research/lib/python2.7/site-packages/skimage/io/_io.py:132: UserWarning: /home/nguye590/Research/prip-nguye590/Latent_matching_hub/Segmentation/output_mask/shapes20171215T0924_305_from_512_thres_1_bmp/116_masked.bmp is a low contrast image\n",
      "  warn('%s is a low contrast image' % fname)\n"
     ]
    },
    {
     "name": "stdout",
     "output_type": "stream",
     "text": [
      "116\n"
     ]
    },
    {
     "name": "stderr",
     "output_type": "stream",
     "text": [
      "/home/nguye590/anaconda2/envs/tensorflow-research/lib/python2.7/site-packages/skimage/io/_io.py:132: UserWarning: /home/nguye590/Research/prip-nguye590/Latent_matching_hub/Segmentation/output_mask/shapes20171215T0924_305_from_512_thres_1_bmp/117_masked.bmp is a low contrast image\n",
      "  warn('%s is a low contrast image' % fname)\n"
     ]
    },
    {
     "name": "stdout",
     "output_type": "stream",
     "text": [
      "117\n"
     ]
    },
    {
     "name": "stderr",
     "output_type": "stream",
     "text": [
      "/home/nguye590/anaconda2/envs/tensorflow-research/lib/python2.7/site-packages/skimage/io/_io.py:132: UserWarning: /home/nguye590/Research/prip-nguye590/Latent_matching_hub/Segmentation/output_mask/shapes20171215T0924_305_from_512_thres_1_bmp/118_masked.bmp is a low contrast image\n",
      "  warn('%s is a low contrast image' % fname)\n"
     ]
    },
    {
     "name": "stdout",
     "output_type": "stream",
     "text": [
      "118\n"
     ]
    },
    {
     "name": "stderr",
     "output_type": "stream",
     "text": [
      "/home/nguye590/anaconda2/envs/tensorflow-research/lib/python2.7/site-packages/skimage/io/_io.py:132: UserWarning: /home/nguye590/Research/prip-nguye590/Latent_matching_hub/Segmentation/output_mask/shapes20171215T0924_305_from_512_thres_1_bmp/119_masked.bmp is a low contrast image\n",
      "  warn('%s is a low contrast image' % fname)\n"
     ]
    },
    {
     "name": "stdout",
     "output_type": "stream",
     "text": [
      "119\n"
     ]
    },
    {
     "name": "stderr",
     "output_type": "stream",
     "text": [
      "/home/nguye590/anaconda2/envs/tensorflow-research/lib/python2.7/site-packages/skimage/io/_io.py:132: UserWarning: /home/nguye590/Research/prip-nguye590/Latent_matching_hub/Segmentation/output_mask/shapes20171215T0924_305_from_512_thres_1_bmp/120_masked.bmp is a low contrast image\n",
      "  warn('%s is a low contrast image' % fname)\n"
     ]
    },
    {
     "name": "stdout",
     "output_type": "stream",
     "text": [
      "120\n"
     ]
    },
    {
     "name": "stderr",
     "output_type": "stream",
     "text": [
      "/home/nguye590/anaconda2/envs/tensorflow-research/lib/python2.7/site-packages/skimage/io/_io.py:132: UserWarning: /home/nguye590/Research/prip-nguye590/Latent_matching_hub/Segmentation/output_mask/shapes20171215T0924_305_from_512_thres_1_bmp/121_masked.bmp is a low contrast image\n",
      "  warn('%s is a low contrast image' % fname)\n"
     ]
    },
    {
     "name": "stdout",
     "output_type": "stream",
     "text": [
      "121\n"
     ]
    },
    {
     "name": "stderr",
     "output_type": "stream",
     "text": [
      "/home/nguye590/anaconda2/envs/tensorflow-research/lib/python2.7/site-packages/skimage/io/_io.py:132: UserWarning: /home/nguye590/Research/prip-nguye590/Latent_matching_hub/Segmentation/output_mask/shapes20171215T0924_305_from_512_thres_1_bmp/122_masked.bmp is a low contrast image\n",
      "  warn('%s is a low contrast image' % fname)\n"
     ]
    },
    {
     "name": "stdout",
     "output_type": "stream",
     "text": [
      "122\n"
     ]
    },
    {
     "name": "stderr",
     "output_type": "stream",
     "text": [
      "/home/nguye590/anaconda2/envs/tensorflow-research/lib/python2.7/site-packages/skimage/io/_io.py:132: UserWarning: /home/nguye590/Research/prip-nguye590/Latent_matching_hub/Segmentation/output_mask/shapes20171215T0924_305_from_512_thres_1_bmp/123_masked.bmp is a low contrast image\n",
      "  warn('%s is a low contrast image' % fname)\n"
     ]
    },
    {
     "name": "stdout",
     "output_type": "stream",
     "text": [
      "123\n"
     ]
    },
    {
     "name": "stderr",
     "output_type": "stream",
     "text": [
      "/home/nguye590/anaconda2/envs/tensorflow-research/lib/python2.7/site-packages/skimage/io/_io.py:132: UserWarning: /home/nguye590/Research/prip-nguye590/Latent_matching_hub/Segmentation/output_mask/shapes20171215T0924_305_from_512_thres_1_bmp/124_masked.bmp is a low contrast image\n",
      "  warn('%s is a low contrast image' % fname)\n"
     ]
    },
    {
     "name": "stdout",
     "output_type": "stream",
     "text": [
      "124\n"
     ]
    },
    {
     "name": "stderr",
     "output_type": "stream",
     "text": [
      "/home/nguye590/anaconda2/envs/tensorflow-research/lib/python2.7/site-packages/skimage/io/_io.py:132: UserWarning: /home/nguye590/Research/prip-nguye590/Latent_matching_hub/Segmentation/output_mask/shapes20171215T0924_305_from_512_thres_1_bmp/125_masked.bmp is a low contrast image\n",
      "  warn('%s is a low contrast image' % fname)\n"
     ]
    },
    {
     "name": "stdout",
     "output_type": "stream",
     "text": [
      "125\n"
     ]
    },
    {
     "name": "stderr",
     "output_type": "stream",
     "text": [
      "/home/nguye590/anaconda2/envs/tensorflow-research/lib/python2.7/site-packages/skimage/io/_io.py:132: UserWarning: /home/nguye590/Research/prip-nguye590/Latent_matching_hub/Segmentation/output_mask/shapes20171215T0924_305_from_512_thres_1_bmp/126_masked.bmp is a low contrast image\n",
      "  warn('%s is a low contrast image' % fname)\n"
     ]
    },
    {
     "name": "stdout",
     "output_type": "stream",
     "text": [
      "126\n"
     ]
    },
    {
     "name": "stderr",
     "output_type": "stream",
     "text": [
      "/home/nguye590/anaconda2/envs/tensorflow-research/lib/python2.7/site-packages/skimage/io/_io.py:132: UserWarning: /home/nguye590/Research/prip-nguye590/Latent_matching_hub/Segmentation/output_mask/shapes20171215T0924_305_from_512_thres_1_bmp/127_masked.bmp is a low contrast image\n",
      "  warn('%s is a low contrast image' % fname)\n"
     ]
    },
    {
     "name": "stdout",
     "output_type": "stream",
     "text": [
      "127\n"
     ]
    },
    {
     "name": "stderr",
     "output_type": "stream",
     "text": [
      "/home/nguye590/anaconda2/envs/tensorflow-research/lib/python2.7/site-packages/skimage/io/_io.py:132: UserWarning: /home/nguye590/Research/prip-nguye590/Latent_matching_hub/Segmentation/output_mask/shapes20171215T0924_305_from_512_thres_1_bmp/128_masked.bmp is a low contrast image\n",
      "  warn('%s is a low contrast image' % fname)\n"
     ]
    },
    {
     "name": "stdout",
     "output_type": "stream",
     "text": [
      "128\n"
     ]
    },
    {
     "name": "stderr",
     "output_type": "stream",
     "text": [
      "/home/nguye590/anaconda2/envs/tensorflow-research/lib/python2.7/site-packages/skimage/io/_io.py:132: UserWarning: /home/nguye590/Research/prip-nguye590/Latent_matching_hub/Segmentation/output_mask/shapes20171215T0924_305_from_512_thres_1_bmp/129_masked.bmp is a low contrast image\n",
      "  warn('%s is a low contrast image' % fname)\n"
     ]
    },
    {
     "name": "stdout",
     "output_type": "stream",
     "text": [
      "129\n"
     ]
    },
    {
     "name": "stderr",
     "output_type": "stream",
     "text": [
      "/home/nguye590/anaconda2/envs/tensorflow-research/lib/python2.7/site-packages/skimage/io/_io.py:132: UserWarning: /home/nguye590/Research/prip-nguye590/Latent_matching_hub/Segmentation/output_mask/shapes20171215T0924_305_from_512_thres_1_bmp/130_masked.bmp is a low contrast image\n",
      "  warn('%s is a low contrast image' % fname)\n"
     ]
    },
    {
     "name": "stdout",
     "output_type": "stream",
     "text": [
      "130\n"
     ]
    },
    {
     "name": "stderr",
     "output_type": "stream",
     "text": [
      "/home/nguye590/anaconda2/envs/tensorflow-research/lib/python2.7/site-packages/skimage/io/_io.py:132: UserWarning: /home/nguye590/Research/prip-nguye590/Latent_matching_hub/Segmentation/output_mask/shapes20171215T0924_305_from_512_thres_1_bmp/131_masked.bmp is a low contrast image\n",
      "  warn('%s is a low contrast image' % fname)\n"
     ]
    },
    {
     "name": "stdout",
     "output_type": "stream",
     "text": [
      "131\n"
     ]
    },
    {
     "name": "stderr",
     "output_type": "stream",
     "text": [
      "/home/nguye590/anaconda2/envs/tensorflow-research/lib/python2.7/site-packages/skimage/io/_io.py:132: UserWarning: /home/nguye590/Research/prip-nguye590/Latent_matching_hub/Segmentation/output_mask/shapes20171215T0924_305_from_512_thres_1_bmp/132_masked.bmp is a low contrast image\n",
      "  warn('%s is a low contrast image' % fname)\n"
     ]
    },
    {
     "name": "stdout",
     "output_type": "stream",
     "text": [
      "132\n"
     ]
    },
    {
     "name": "stderr",
     "output_type": "stream",
     "text": [
      "/home/nguye590/anaconda2/envs/tensorflow-research/lib/python2.7/site-packages/skimage/io/_io.py:132: UserWarning: /home/nguye590/Research/prip-nguye590/Latent_matching_hub/Segmentation/output_mask/shapes20171215T0924_305_from_512_thres_1_bmp/133_masked.bmp is a low contrast image\n",
      "  warn('%s is a low contrast image' % fname)\n"
     ]
    },
    {
     "name": "stdout",
     "output_type": "stream",
     "text": [
      "133\n"
     ]
    },
    {
     "name": "stderr",
     "output_type": "stream",
     "text": [
      "/home/nguye590/anaconda2/envs/tensorflow-research/lib/python2.7/site-packages/skimage/io/_io.py:132: UserWarning: /home/nguye590/Research/prip-nguye590/Latent_matching_hub/Segmentation/output_mask/shapes20171215T0924_305_from_512_thres_1_bmp/134_masked.bmp is a low contrast image\n",
      "  warn('%s is a low contrast image' % fname)\n"
     ]
    },
    {
     "name": "stdout",
     "output_type": "stream",
     "text": [
      "134\n"
     ]
    },
    {
     "name": "stderr",
     "output_type": "stream",
     "text": [
      "/home/nguye590/anaconda2/envs/tensorflow-research/lib/python2.7/site-packages/skimage/io/_io.py:132: UserWarning: /home/nguye590/Research/prip-nguye590/Latent_matching_hub/Segmentation/output_mask/shapes20171215T0924_305_from_512_thres_1_bmp/135_masked.bmp is a low contrast image\n",
      "  warn('%s is a low contrast image' % fname)\n"
     ]
    },
    {
     "name": "stdout",
     "output_type": "stream",
     "text": [
      "135\n"
     ]
    },
    {
     "name": "stderr",
     "output_type": "stream",
     "text": [
      "/home/nguye590/anaconda2/envs/tensorflow-research/lib/python2.7/site-packages/skimage/io/_io.py:132: UserWarning: /home/nguye590/Research/prip-nguye590/Latent_matching_hub/Segmentation/output_mask/shapes20171215T0924_305_from_512_thres_1_bmp/136_masked.bmp is a low contrast image\n",
      "  warn('%s is a low contrast image' % fname)\n"
     ]
    },
    {
     "name": "stdout",
     "output_type": "stream",
     "text": [
      "136\n"
     ]
    },
    {
     "name": "stderr",
     "output_type": "stream",
     "text": [
      "/home/nguye590/anaconda2/envs/tensorflow-research/lib/python2.7/site-packages/skimage/io/_io.py:132: UserWarning: /home/nguye590/Research/prip-nguye590/Latent_matching_hub/Segmentation/output_mask/shapes20171215T0924_305_from_512_thres_1_bmp/137_masked.bmp is a low contrast image\n",
      "  warn('%s is a low contrast image' % fname)\n"
     ]
    },
    {
     "name": "stdout",
     "output_type": "stream",
     "text": [
      "137\n"
     ]
    },
    {
     "name": "stderr",
     "output_type": "stream",
     "text": [
      "/home/nguye590/anaconda2/envs/tensorflow-research/lib/python2.7/site-packages/skimage/io/_io.py:132: UserWarning: /home/nguye590/Research/prip-nguye590/Latent_matching_hub/Segmentation/output_mask/shapes20171215T0924_305_from_512_thres_1_bmp/138_masked.bmp is a low contrast image\n",
      "  warn('%s is a low contrast image' % fname)\n"
     ]
    },
    {
     "name": "stdout",
     "output_type": "stream",
     "text": [
      "138\n"
     ]
    },
    {
     "name": "stderr",
     "output_type": "stream",
     "text": [
      "/home/nguye590/anaconda2/envs/tensorflow-research/lib/python2.7/site-packages/skimage/io/_io.py:132: UserWarning: /home/nguye590/Research/prip-nguye590/Latent_matching_hub/Segmentation/output_mask/shapes20171215T0924_305_from_512_thres_1_bmp/139_masked.bmp is a low contrast image\n",
      "  warn('%s is a low contrast image' % fname)\n"
     ]
    },
    {
     "name": "stdout",
     "output_type": "stream",
     "text": [
      "139\n"
     ]
    },
    {
     "name": "stderr",
     "output_type": "stream",
     "text": [
      "/home/nguye590/anaconda2/envs/tensorflow-research/lib/python2.7/site-packages/skimage/io/_io.py:132: UserWarning: /home/nguye590/Research/prip-nguye590/Latent_matching_hub/Segmentation/output_mask/shapes20171215T0924_305_from_512_thres_1_bmp/140_masked.bmp is a low contrast image\n",
      "  warn('%s is a low contrast image' % fname)\n"
     ]
    },
    {
     "name": "stdout",
     "output_type": "stream",
     "text": [
      "140\n"
     ]
    },
    {
     "name": "stderr",
     "output_type": "stream",
     "text": [
      "/home/nguye590/anaconda2/envs/tensorflow-research/lib/python2.7/site-packages/skimage/io/_io.py:132: UserWarning: /home/nguye590/Research/prip-nguye590/Latent_matching_hub/Segmentation/output_mask/shapes20171215T0924_305_from_512_thres_1_bmp/141_masked.bmp is a low contrast image\n",
      "  warn('%s is a low contrast image' % fname)\n"
     ]
    },
    {
     "name": "stdout",
     "output_type": "stream",
     "text": [
      "141\n"
     ]
    },
    {
     "name": "stderr",
     "output_type": "stream",
     "text": [
      "/home/nguye590/anaconda2/envs/tensorflow-research/lib/python2.7/site-packages/skimage/io/_io.py:132: UserWarning: /home/nguye590/Research/prip-nguye590/Latent_matching_hub/Segmentation/output_mask/shapes20171215T0924_305_from_512_thres_1_bmp/142_masked.bmp is a low contrast image\n",
      "  warn('%s is a low contrast image' % fname)\n"
     ]
    },
    {
     "name": "stdout",
     "output_type": "stream",
     "text": [
      "142\n"
     ]
    },
    {
     "name": "stderr",
     "output_type": "stream",
     "text": [
      "/home/nguye590/anaconda2/envs/tensorflow-research/lib/python2.7/site-packages/skimage/io/_io.py:132: UserWarning: /home/nguye590/Research/prip-nguye590/Latent_matching_hub/Segmentation/output_mask/shapes20171215T0924_305_from_512_thres_1_bmp/143_masked.bmp is a low contrast image\n",
      "  warn('%s is a low contrast image' % fname)\n"
     ]
    },
    {
     "name": "stdout",
     "output_type": "stream",
     "text": [
      "143\n"
     ]
    },
    {
     "name": "stderr",
     "output_type": "stream",
     "text": [
      "/home/nguye590/anaconda2/envs/tensorflow-research/lib/python2.7/site-packages/skimage/io/_io.py:132: UserWarning: /home/nguye590/Research/prip-nguye590/Latent_matching_hub/Segmentation/output_mask/shapes20171215T0924_305_from_512_thres_1_bmp/144_masked.bmp is a low contrast image\n",
      "  warn('%s is a low contrast image' % fname)\n"
     ]
    },
    {
     "name": "stdout",
     "output_type": "stream",
     "text": [
      "144\n"
     ]
    },
    {
     "name": "stderr",
     "output_type": "stream",
     "text": [
      "/home/nguye590/anaconda2/envs/tensorflow-research/lib/python2.7/site-packages/skimage/io/_io.py:132: UserWarning: /home/nguye590/Research/prip-nguye590/Latent_matching_hub/Segmentation/output_mask/shapes20171215T0924_305_from_512_thres_1_bmp/145_masked.bmp is a low contrast image\n",
      "  warn('%s is a low contrast image' % fname)\n"
     ]
    },
    {
     "name": "stdout",
     "output_type": "stream",
     "text": [
      "145\n"
     ]
    },
    {
     "name": "stderr",
     "output_type": "stream",
     "text": [
      "/home/nguye590/anaconda2/envs/tensorflow-research/lib/python2.7/site-packages/skimage/io/_io.py:132: UserWarning: /home/nguye590/Research/prip-nguye590/Latent_matching_hub/Segmentation/output_mask/shapes20171215T0924_305_from_512_thres_1_bmp/146_masked.bmp is a low contrast image\n",
      "  warn('%s is a low contrast image' % fname)\n"
     ]
    },
    {
     "name": "stdout",
     "output_type": "stream",
     "text": [
      "146\n"
     ]
    },
    {
     "name": "stderr",
     "output_type": "stream",
     "text": [
      "/home/nguye590/anaconda2/envs/tensorflow-research/lib/python2.7/site-packages/skimage/io/_io.py:132: UserWarning: /home/nguye590/Research/prip-nguye590/Latent_matching_hub/Segmentation/output_mask/shapes20171215T0924_305_from_512_thres_1_bmp/147_masked.bmp is a low contrast image\n",
      "  warn('%s is a low contrast image' % fname)\n"
     ]
    },
    {
     "name": "stdout",
     "output_type": "stream",
     "text": [
      "147\n"
     ]
    },
    {
     "name": "stderr",
     "output_type": "stream",
     "text": [
      "/home/nguye590/anaconda2/envs/tensorflow-research/lib/python2.7/site-packages/skimage/io/_io.py:132: UserWarning: /home/nguye590/Research/prip-nguye590/Latent_matching_hub/Segmentation/output_mask/shapes20171215T0924_305_from_512_thres_1_bmp/148_masked.bmp is a low contrast image\n",
      "  warn('%s is a low contrast image' % fname)\n"
     ]
    },
    {
     "name": "stdout",
     "output_type": "stream",
     "text": [
      "148\n"
     ]
    },
    {
     "name": "stderr",
     "output_type": "stream",
     "text": [
      "/home/nguye590/anaconda2/envs/tensorflow-research/lib/python2.7/site-packages/skimage/io/_io.py:132: UserWarning: /home/nguye590/Research/prip-nguye590/Latent_matching_hub/Segmentation/output_mask/shapes20171215T0924_305_from_512_thres_1_bmp/149_masked.bmp is a low contrast image\n",
      "  warn('%s is a low contrast image' % fname)\n"
     ]
    },
    {
     "name": "stdout",
     "output_type": "stream",
     "text": [
      "149\n"
     ]
    },
    {
     "name": "stderr",
     "output_type": "stream",
     "text": [
      "/home/nguye590/anaconda2/envs/tensorflow-research/lib/python2.7/site-packages/skimage/io/_io.py:132: UserWarning: /home/nguye590/Research/prip-nguye590/Latent_matching_hub/Segmentation/output_mask/shapes20171215T0924_305_from_512_thres_1_bmp/150_masked.bmp is a low contrast image\n",
      "  warn('%s is a low contrast image' % fname)\n"
     ]
    },
    {
     "name": "stdout",
     "output_type": "stream",
     "text": [
      "150\n"
     ]
    },
    {
     "name": "stderr",
     "output_type": "stream",
     "text": [
      "/home/nguye590/anaconda2/envs/tensorflow-research/lib/python2.7/site-packages/skimage/io/_io.py:132: UserWarning: /home/nguye590/Research/prip-nguye590/Latent_matching_hub/Segmentation/output_mask/shapes20171215T0924_305_from_512_thres_1_bmp/151_masked.bmp is a low contrast image\n",
      "  warn('%s is a low contrast image' % fname)\n"
     ]
    },
    {
     "name": "stdout",
     "output_type": "stream",
     "text": [
      "151\n"
     ]
    },
    {
     "name": "stderr",
     "output_type": "stream",
     "text": [
      "/home/nguye590/anaconda2/envs/tensorflow-research/lib/python2.7/site-packages/skimage/io/_io.py:132: UserWarning: /home/nguye590/Research/prip-nguye590/Latent_matching_hub/Segmentation/output_mask/shapes20171215T0924_305_from_512_thres_1_bmp/152_masked.bmp is a low contrast image\n",
      "  warn('%s is a low contrast image' % fname)\n"
     ]
    },
    {
     "name": "stdout",
     "output_type": "stream",
     "text": [
      "152\n"
     ]
    },
    {
     "name": "stderr",
     "output_type": "stream",
     "text": [
      "/home/nguye590/anaconda2/envs/tensorflow-research/lib/python2.7/site-packages/skimage/io/_io.py:132: UserWarning: /home/nguye590/Research/prip-nguye590/Latent_matching_hub/Segmentation/output_mask/shapes20171215T0924_305_from_512_thres_1_bmp/153_masked.bmp is a low contrast image\n",
      "  warn('%s is a low contrast image' % fname)\n"
     ]
    },
    {
     "name": "stdout",
     "output_type": "stream",
     "text": [
      "153\n"
     ]
    },
    {
     "name": "stderr",
     "output_type": "stream",
     "text": [
      "/home/nguye590/anaconda2/envs/tensorflow-research/lib/python2.7/site-packages/skimage/io/_io.py:132: UserWarning: /home/nguye590/Research/prip-nguye590/Latent_matching_hub/Segmentation/output_mask/shapes20171215T0924_305_from_512_thres_1_bmp/154_masked.bmp is a low contrast image\n",
      "  warn('%s is a low contrast image' % fname)\n"
     ]
    },
    {
     "name": "stdout",
     "output_type": "stream",
     "text": [
      "154\n"
     ]
    },
    {
     "name": "stderr",
     "output_type": "stream",
     "text": [
      "/home/nguye590/anaconda2/envs/tensorflow-research/lib/python2.7/site-packages/skimage/io/_io.py:132: UserWarning: /home/nguye590/Research/prip-nguye590/Latent_matching_hub/Segmentation/output_mask/shapes20171215T0924_305_from_512_thres_1_bmp/155_masked.bmp is a low contrast image\n",
      "  warn('%s is a low contrast image' % fname)\n"
     ]
    },
    {
     "name": "stdout",
     "output_type": "stream",
     "text": [
      "155\n"
     ]
    },
    {
     "name": "stderr",
     "output_type": "stream",
     "text": [
      "/home/nguye590/anaconda2/envs/tensorflow-research/lib/python2.7/site-packages/skimage/io/_io.py:132: UserWarning: /home/nguye590/Research/prip-nguye590/Latent_matching_hub/Segmentation/output_mask/shapes20171215T0924_305_from_512_thres_1_bmp/156_masked.bmp is a low contrast image\n",
      "  warn('%s is a low contrast image' % fname)\n"
     ]
    },
    {
     "name": "stdout",
     "output_type": "stream",
     "text": [
      "156\n"
     ]
    },
    {
     "name": "stderr",
     "output_type": "stream",
     "text": [
      "/home/nguye590/anaconda2/envs/tensorflow-research/lib/python2.7/site-packages/skimage/io/_io.py:132: UserWarning: /home/nguye590/Research/prip-nguye590/Latent_matching_hub/Segmentation/output_mask/shapes20171215T0924_305_from_512_thres_1_bmp/157_masked.bmp is a low contrast image\n",
      "  warn('%s is a low contrast image' % fname)\n"
     ]
    },
    {
     "name": "stdout",
     "output_type": "stream",
     "text": [
      "157\n"
     ]
    },
    {
     "name": "stderr",
     "output_type": "stream",
     "text": [
      "/home/nguye590/anaconda2/envs/tensorflow-research/lib/python2.7/site-packages/skimage/io/_io.py:132: UserWarning: /home/nguye590/Research/prip-nguye590/Latent_matching_hub/Segmentation/output_mask/shapes20171215T0924_305_from_512_thres_1_bmp/158_masked.bmp is a low contrast image\n",
      "  warn('%s is a low contrast image' % fname)\n"
     ]
    },
    {
     "name": "stdout",
     "output_type": "stream",
     "text": [
      "158\n"
     ]
    },
    {
     "name": "stderr",
     "output_type": "stream",
     "text": [
      "/home/nguye590/anaconda2/envs/tensorflow-research/lib/python2.7/site-packages/skimage/io/_io.py:132: UserWarning: /home/nguye590/Research/prip-nguye590/Latent_matching_hub/Segmentation/output_mask/shapes20171215T0924_305_from_512_thres_1_bmp/159_masked.bmp is a low contrast image\n",
      "  warn('%s is a low contrast image' % fname)\n"
     ]
    },
    {
     "name": "stdout",
     "output_type": "stream",
     "text": [
      "159\n"
     ]
    },
    {
     "name": "stderr",
     "output_type": "stream",
     "text": [
      "/home/nguye590/anaconda2/envs/tensorflow-research/lib/python2.7/site-packages/skimage/io/_io.py:132: UserWarning: /home/nguye590/Research/prip-nguye590/Latent_matching_hub/Segmentation/output_mask/shapes20171215T0924_305_from_512_thres_1_bmp/160_masked.bmp is a low contrast image\n",
      "  warn('%s is a low contrast image' % fname)\n"
     ]
    },
    {
     "name": "stdout",
     "output_type": "stream",
     "text": [
      "160\n"
     ]
    },
    {
     "name": "stderr",
     "output_type": "stream",
     "text": [
      "/home/nguye590/anaconda2/envs/tensorflow-research/lib/python2.7/site-packages/skimage/io/_io.py:132: UserWarning: /home/nguye590/Research/prip-nguye590/Latent_matching_hub/Segmentation/output_mask/shapes20171215T0924_305_from_512_thres_1_bmp/161_masked.bmp is a low contrast image\n",
      "  warn('%s is a low contrast image' % fname)\n"
     ]
    },
    {
     "name": "stdout",
     "output_type": "stream",
     "text": [
      "161\n"
     ]
    },
    {
     "name": "stderr",
     "output_type": "stream",
     "text": [
      "/home/nguye590/anaconda2/envs/tensorflow-research/lib/python2.7/site-packages/skimage/io/_io.py:132: UserWarning: /home/nguye590/Research/prip-nguye590/Latent_matching_hub/Segmentation/output_mask/shapes20171215T0924_305_from_512_thres_1_bmp/162_masked.bmp is a low contrast image\n",
      "  warn('%s is a low contrast image' % fname)\n"
     ]
    },
    {
     "name": "stdout",
     "output_type": "stream",
     "text": [
      "162\n"
     ]
    },
    {
     "name": "stderr",
     "output_type": "stream",
     "text": [
      "/home/nguye590/anaconda2/envs/tensorflow-research/lib/python2.7/site-packages/skimage/io/_io.py:132: UserWarning: /home/nguye590/Research/prip-nguye590/Latent_matching_hub/Segmentation/output_mask/shapes20171215T0924_305_from_512_thres_1_bmp/163_masked.bmp is a low contrast image\n",
      "  warn('%s is a low contrast image' % fname)\n"
     ]
    },
    {
     "name": "stdout",
     "output_type": "stream",
     "text": [
      "163\n"
     ]
    },
    {
     "name": "stderr",
     "output_type": "stream",
     "text": [
      "/home/nguye590/anaconda2/envs/tensorflow-research/lib/python2.7/site-packages/skimage/io/_io.py:132: UserWarning: /home/nguye590/Research/prip-nguye590/Latent_matching_hub/Segmentation/output_mask/shapes20171215T0924_305_from_512_thres_1_bmp/164_masked.bmp is a low contrast image\n",
      "  warn('%s is a low contrast image' % fname)\n"
     ]
    },
    {
     "name": "stdout",
     "output_type": "stream",
     "text": [
      "164\n"
     ]
    },
    {
     "name": "stderr",
     "output_type": "stream",
     "text": [
      "/home/nguye590/anaconda2/envs/tensorflow-research/lib/python2.7/site-packages/skimage/io/_io.py:132: UserWarning: /home/nguye590/Research/prip-nguye590/Latent_matching_hub/Segmentation/output_mask/shapes20171215T0924_305_from_512_thres_1_bmp/165_masked.bmp is a low contrast image\n",
      "  warn('%s is a low contrast image' % fname)\n"
     ]
    },
    {
     "name": "stdout",
     "output_type": "stream",
     "text": [
      "165\n"
     ]
    },
    {
     "name": "stderr",
     "output_type": "stream",
     "text": [
      "/home/nguye590/anaconda2/envs/tensorflow-research/lib/python2.7/site-packages/skimage/io/_io.py:132: UserWarning: /home/nguye590/Research/prip-nguye590/Latent_matching_hub/Segmentation/output_mask/shapes20171215T0924_305_from_512_thres_1_bmp/166_masked.bmp is a low contrast image\n",
      "  warn('%s is a low contrast image' % fname)\n"
     ]
    },
    {
     "name": "stdout",
     "output_type": "stream",
     "text": [
      "166\n"
     ]
    },
    {
     "name": "stderr",
     "output_type": "stream",
     "text": [
      "/home/nguye590/anaconda2/envs/tensorflow-research/lib/python2.7/site-packages/skimage/io/_io.py:132: UserWarning: /home/nguye590/Research/prip-nguye590/Latent_matching_hub/Segmentation/output_mask/shapes20171215T0924_305_from_512_thres_1_bmp/167_masked.bmp is a low contrast image\n",
      "  warn('%s is a low contrast image' % fname)\n"
     ]
    },
    {
     "name": "stdout",
     "output_type": "stream",
     "text": [
      "167\n"
     ]
    },
    {
     "name": "stderr",
     "output_type": "stream",
     "text": [
      "/home/nguye590/anaconda2/envs/tensorflow-research/lib/python2.7/site-packages/skimage/io/_io.py:132: UserWarning: /home/nguye590/Research/prip-nguye590/Latent_matching_hub/Segmentation/output_mask/shapes20171215T0924_305_from_512_thres_1_bmp/168_masked.bmp is a low contrast image\n",
      "  warn('%s is a low contrast image' % fname)\n"
     ]
    },
    {
     "name": "stdout",
     "output_type": "stream",
     "text": [
      "168\n"
     ]
    },
    {
     "name": "stderr",
     "output_type": "stream",
     "text": [
      "/home/nguye590/anaconda2/envs/tensorflow-research/lib/python2.7/site-packages/skimage/io/_io.py:132: UserWarning: /home/nguye590/Research/prip-nguye590/Latent_matching_hub/Segmentation/output_mask/shapes20171215T0924_305_from_512_thres_1_bmp/169_masked.bmp is a low contrast image\n",
      "  warn('%s is a low contrast image' % fname)\n"
     ]
    },
    {
     "name": "stdout",
     "output_type": "stream",
     "text": [
      "169\n"
     ]
    },
    {
     "name": "stderr",
     "output_type": "stream",
     "text": [
      "/home/nguye590/anaconda2/envs/tensorflow-research/lib/python2.7/site-packages/skimage/io/_io.py:132: UserWarning: /home/nguye590/Research/prip-nguye590/Latent_matching_hub/Segmentation/output_mask/shapes20171215T0924_305_from_512_thres_1_bmp/170_masked.bmp is a low contrast image\n",
      "  warn('%s is a low contrast image' % fname)\n"
     ]
    },
    {
     "name": "stdout",
     "output_type": "stream",
     "text": [
      "170\n"
     ]
    },
    {
     "name": "stderr",
     "output_type": "stream",
     "text": [
      "/home/nguye590/anaconda2/envs/tensorflow-research/lib/python2.7/site-packages/skimage/io/_io.py:132: UserWarning: /home/nguye590/Research/prip-nguye590/Latent_matching_hub/Segmentation/output_mask/shapes20171215T0924_305_from_512_thres_1_bmp/171_masked.bmp is a low contrast image\n",
      "  warn('%s is a low contrast image' % fname)\n"
     ]
    },
    {
     "name": "stdout",
     "output_type": "stream",
     "text": [
      "171\n"
     ]
    },
    {
     "name": "stderr",
     "output_type": "stream",
     "text": [
      "/home/nguye590/anaconda2/envs/tensorflow-research/lib/python2.7/site-packages/skimage/io/_io.py:132: UserWarning: /home/nguye590/Research/prip-nguye590/Latent_matching_hub/Segmentation/output_mask/shapes20171215T0924_305_from_512_thres_1_bmp/172_masked.bmp is a low contrast image\n",
      "  warn('%s is a low contrast image' % fname)\n"
     ]
    },
    {
     "name": "stdout",
     "output_type": "stream",
     "text": [
      "172\n"
     ]
    },
    {
     "name": "stderr",
     "output_type": "stream",
     "text": [
      "/home/nguye590/anaconda2/envs/tensorflow-research/lib/python2.7/site-packages/skimage/io/_io.py:132: UserWarning: /home/nguye590/Research/prip-nguye590/Latent_matching_hub/Segmentation/output_mask/shapes20171215T0924_305_from_512_thres_1_bmp/173_masked.bmp is a low contrast image\n",
      "  warn('%s is a low contrast image' % fname)\n"
     ]
    },
    {
     "name": "stdout",
     "output_type": "stream",
     "text": [
      "173\n"
     ]
    },
    {
     "name": "stderr",
     "output_type": "stream",
     "text": [
      "/home/nguye590/anaconda2/envs/tensorflow-research/lib/python2.7/site-packages/skimage/io/_io.py:132: UserWarning: /home/nguye590/Research/prip-nguye590/Latent_matching_hub/Segmentation/output_mask/shapes20171215T0924_305_from_512_thres_1_bmp/174_masked.bmp is a low contrast image\n",
      "  warn('%s is a low contrast image' % fname)\n"
     ]
    },
    {
     "name": "stdout",
     "output_type": "stream",
     "text": [
      "174\n"
     ]
    },
    {
     "name": "stderr",
     "output_type": "stream",
     "text": [
      "/home/nguye590/anaconda2/envs/tensorflow-research/lib/python2.7/site-packages/skimage/io/_io.py:132: UserWarning: /home/nguye590/Research/prip-nguye590/Latent_matching_hub/Segmentation/output_mask/shapes20171215T0924_305_from_512_thres_1_bmp/175_masked.bmp is a low contrast image\n",
      "  warn('%s is a low contrast image' % fname)\n"
     ]
    },
    {
     "name": "stdout",
     "output_type": "stream",
     "text": [
      "175\n"
     ]
    },
    {
     "name": "stderr",
     "output_type": "stream",
     "text": [
      "/home/nguye590/anaconda2/envs/tensorflow-research/lib/python2.7/site-packages/skimage/io/_io.py:132: UserWarning: /home/nguye590/Research/prip-nguye590/Latent_matching_hub/Segmentation/output_mask/shapes20171215T0924_305_from_512_thres_1_bmp/176_masked.bmp is a low contrast image\n",
      "  warn('%s is a low contrast image' % fname)\n"
     ]
    },
    {
     "name": "stdout",
     "output_type": "stream",
     "text": [
      "176\n"
     ]
    },
    {
     "name": "stderr",
     "output_type": "stream",
     "text": [
      "/home/nguye590/anaconda2/envs/tensorflow-research/lib/python2.7/site-packages/skimage/io/_io.py:132: UserWarning: /home/nguye590/Research/prip-nguye590/Latent_matching_hub/Segmentation/output_mask/shapes20171215T0924_305_from_512_thres_1_bmp/177_masked.bmp is a low contrast image\n",
      "  warn('%s is a low contrast image' % fname)\n"
     ]
    },
    {
     "name": "stdout",
     "output_type": "stream",
     "text": [
      "177\n"
     ]
    },
    {
     "name": "stderr",
     "output_type": "stream",
     "text": [
      "/home/nguye590/anaconda2/envs/tensorflow-research/lib/python2.7/site-packages/skimage/io/_io.py:132: UserWarning: /home/nguye590/Research/prip-nguye590/Latent_matching_hub/Segmentation/output_mask/shapes20171215T0924_305_from_512_thres_1_bmp/178_masked.bmp is a low contrast image\n",
      "  warn('%s is a low contrast image' % fname)\n"
     ]
    },
    {
     "name": "stdout",
     "output_type": "stream",
     "text": [
      "178\n"
     ]
    },
    {
     "name": "stderr",
     "output_type": "stream",
     "text": [
      "/home/nguye590/anaconda2/envs/tensorflow-research/lib/python2.7/site-packages/skimage/io/_io.py:132: UserWarning: /home/nguye590/Research/prip-nguye590/Latent_matching_hub/Segmentation/output_mask/shapes20171215T0924_305_from_512_thres_1_bmp/179_masked.bmp is a low contrast image\n",
      "  warn('%s is a low contrast image' % fname)\n"
     ]
    },
    {
     "name": "stdout",
     "output_type": "stream",
     "text": [
      "179\n"
     ]
    },
    {
     "name": "stderr",
     "output_type": "stream",
     "text": [
      "/home/nguye590/anaconda2/envs/tensorflow-research/lib/python2.7/site-packages/skimage/io/_io.py:132: UserWarning: /home/nguye590/Research/prip-nguye590/Latent_matching_hub/Segmentation/output_mask/shapes20171215T0924_305_from_512_thres_1_bmp/180_masked.bmp is a low contrast image\n",
      "  warn('%s is a low contrast image' % fname)\n"
     ]
    },
    {
     "name": "stdout",
     "output_type": "stream",
     "text": [
      "180\n"
     ]
    },
    {
     "name": "stderr",
     "output_type": "stream",
     "text": [
      "/home/nguye590/anaconda2/envs/tensorflow-research/lib/python2.7/site-packages/skimage/io/_io.py:132: UserWarning: /home/nguye590/Research/prip-nguye590/Latent_matching_hub/Segmentation/output_mask/shapes20171215T0924_305_from_512_thres_1_bmp/181_masked.bmp is a low contrast image\n",
      "  warn('%s is a low contrast image' % fname)\n"
     ]
    },
    {
     "name": "stdout",
     "output_type": "stream",
     "text": [
      "181\n"
     ]
    },
    {
     "name": "stderr",
     "output_type": "stream",
     "text": [
      "/home/nguye590/anaconda2/envs/tensorflow-research/lib/python2.7/site-packages/skimage/io/_io.py:132: UserWarning: /home/nguye590/Research/prip-nguye590/Latent_matching_hub/Segmentation/output_mask/shapes20171215T0924_305_from_512_thres_1_bmp/182_masked.bmp is a low contrast image\n",
      "  warn('%s is a low contrast image' % fname)\n"
     ]
    },
    {
     "name": "stdout",
     "output_type": "stream",
     "text": [
      "182\n"
     ]
    },
    {
     "name": "stderr",
     "output_type": "stream",
     "text": [
      "/home/nguye590/anaconda2/envs/tensorflow-research/lib/python2.7/site-packages/skimage/io/_io.py:132: UserWarning: /home/nguye590/Research/prip-nguye590/Latent_matching_hub/Segmentation/output_mask/shapes20171215T0924_305_from_512_thres_1_bmp/183_masked.bmp is a low contrast image\n",
      "  warn('%s is a low contrast image' % fname)\n"
     ]
    },
    {
     "name": "stdout",
     "output_type": "stream",
     "text": [
      "183\n"
     ]
    },
    {
     "name": "stderr",
     "output_type": "stream",
     "text": [
      "/home/nguye590/anaconda2/envs/tensorflow-research/lib/python2.7/site-packages/skimage/io/_io.py:132: UserWarning: /home/nguye590/Research/prip-nguye590/Latent_matching_hub/Segmentation/output_mask/shapes20171215T0924_305_from_512_thres_1_bmp/184_masked.bmp is a low contrast image\n",
      "  warn('%s is a low contrast image' % fname)\n"
     ]
    },
    {
     "name": "stdout",
     "output_type": "stream",
     "text": [
      "184\n"
     ]
    },
    {
     "name": "stderr",
     "output_type": "stream",
     "text": [
      "/home/nguye590/anaconda2/envs/tensorflow-research/lib/python2.7/site-packages/skimage/io/_io.py:132: UserWarning: /home/nguye590/Research/prip-nguye590/Latent_matching_hub/Segmentation/output_mask/shapes20171215T0924_305_from_512_thres_1_bmp/185_masked.bmp is a low contrast image\n",
      "  warn('%s is a low contrast image' % fname)\n"
     ]
    },
    {
     "name": "stdout",
     "output_type": "stream",
     "text": [
      "185\n"
     ]
    },
    {
     "name": "stderr",
     "output_type": "stream",
     "text": [
      "/home/nguye590/anaconda2/envs/tensorflow-research/lib/python2.7/site-packages/skimage/io/_io.py:132: UserWarning: /home/nguye590/Research/prip-nguye590/Latent_matching_hub/Segmentation/output_mask/shapes20171215T0924_305_from_512_thres_1_bmp/186_masked.bmp is a low contrast image\n",
      "  warn('%s is a low contrast image' % fname)\n"
     ]
    },
    {
     "name": "stdout",
     "output_type": "stream",
     "text": [
      "186\n"
     ]
    },
    {
     "name": "stderr",
     "output_type": "stream",
     "text": [
      "/home/nguye590/anaconda2/envs/tensorflow-research/lib/python2.7/site-packages/skimage/io/_io.py:132: UserWarning: /home/nguye590/Research/prip-nguye590/Latent_matching_hub/Segmentation/output_mask/shapes20171215T0924_305_from_512_thres_1_bmp/187_masked.bmp is a low contrast image\n",
      "  warn('%s is a low contrast image' % fname)\n"
     ]
    },
    {
     "name": "stdout",
     "output_type": "stream",
     "text": [
      "187\n"
     ]
    },
    {
     "name": "stderr",
     "output_type": "stream",
     "text": [
      "/home/nguye590/anaconda2/envs/tensorflow-research/lib/python2.7/site-packages/skimage/io/_io.py:132: UserWarning: /home/nguye590/Research/prip-nguye590/Latent_matching_hub/Segmentation/output_mask/shapes20171215T0924_305_from_512_thres_1_bmp/188_masked.bmp is a low contrast image\n",
      "  warn('%s is a low contrast image' % fname)\n"
     ]
    },
    {
     "name": "stdout",
     "output_type": "stream",
     "text": [
      "188\n"
     ]
    },
    {
     "name": "stderr",
     "output_type": "stream",
     "text": [
      "/home/nguye590/anaconda2/envs/tensorflow-research/lib/python2.7/site-packages/skimage/io/_io.py:132: UserWarning: /home/nguye590/Research/prip-nguye590/Latent_matching_hub/Segmentation/output_mask/shapes20171215T0924_305_from_512_thres_1_bmp/189_masked.bmp is a low contrast image\n",
      "  warn('%s is a low contrast image' % fname)\n"
     ]
    },
    {
     "name": "stdout",
     "output_type": "stream",
     "text": [
      "189\n"
     ]
    },
    {
     "name": "stderr",
     "output_type": "stream",
     "text": [
      "/home/nguye590/anaconda2/envs/tensorflow-research/lib/python2.7/site-packages/skimage/io/_io.py:132: UserWarning: /home/nguye590/Research/prip-nguye590/Latent_matching_hub/Segmentation/output_mask/shapes20171215T0924_305_from_512_thres_1_bmp/190_masked.bmp is a low contrast image\n",
      "  warn('%s is a low contrast image' % fname)\n"
     ]
    },
    {
     "name": "stdout",
     "output_type": "stream",
     "text": [
      "190\n"
     ]
    },
    {
     "name": "stderr",
     "output_type": "stream",
     "text": [
      "/home/nguye590/anaconda2/envs/tensorflow-research/lib/python2.7/site-packages/skimage/io/_io.py:132: UserWarning: /home/nguye590/Research/prip-nguye590/Latent_matching_hub/Segmentation/output_mask/shapes20171215T0924_305_from_512_thres_1_bmp/191_masked.bmp is a low contrast image\n",
      "  warn('%s is a low contrast image' % fname)\n"
     ]
    },
    {
     "name": "stdout",
     "output_type": "stream",
     "text": [
      "191\n"
     ]
    },
    {
     "name": "stderr",
     "output_type": "stream",
     "text": [
      "/home/nguye590/anaconda2/envs/tensorflow-research/lib/python2.7/site-packages/skimage/io/_io.py:132: UserWarning: /home/nguye590/Research/prip-nguye590/Latent_matching_hub/Segmentation/output_mask/shapes20171215T0924_305_from_512_thres_1_bmp/192_masked.bmp is a low contrast image\n",
      "  warn('%s is a low contrast image' % fname)\n"
     ]
    },
    {
     "name": "stdout",
     "output_type": "stream",
     "text": [
      "192\n"
     ]
    },
    {
     "name": "stderr",
     "output_type": "stream",
     "text": [
      "/home/nguye590/anaconda2/envs/tensorflow-research/lib/python2.7/site-packages/skimage/io/_io.py:132: UserWarning: /home/nguye590/Research/prip-nguye590/Latent_matching_hub/Segmentation/output_mask/shapes20171215T0924_305_from_512_thres_1_bmp/193_masked.bmp is a low contrast image\n",
      "  warn('%s is a low contrast image' % fname)\n"
     ]
    },
    {
     "name": "stdout",
     "output_type": "stream",
     "text": [
      "193\n"
     ]
    },
    {
     "name": "stderr",
     "output_type": "stream",
     "text": [
      "/home/nguye590/anaconda2/envs/tensorflow-research/lib/python2.7/site-packages/skimage/io/_io.py:132: UserWarning: /home/nguye590/Research/prip-nguye590/Latent_matching_hub/Segmentation/output_mask/shapes20171215T0924_305_from_512_thres_1_bmp/194_masked.bmp is a low contrast image\n",
      "  warn('%s is a low contrast image' % fname)\n"
     ]
    },
    {
     "name": "stdout",
     "output_type": "stream",
     "text": [
      "194\n"
     ]
    },
    {
     "name": "stderr",
     "output_type": "stream",
     "text": [
      "/home/nguye590/anaconda2/envs/tensorflow-research/lib/python2.7/site-packages/skimage/io/_io.py:132: UserWarning: /home/nguye590/Research/prip-nguye590/Latent_matching_hub/Segmentation/output_mask/shapes20171215T0924_305_from_512_thres_1_bmp/195_masked.bmp is a low contrast image\n",
      "  warn('%s is a low contrast image' % fname)\n"
     ]
    },
    {
     "name": "stdout",
     "output_type": "stream",
     "text": [
      "195\n"
     ]
    },
    {
     "name": "stderr",
     "output_type": "stream",
     "text": [
      "/home/nguye590/anaconda2/envs/tensorflow-research/lib/python2.7/site-packages/skimage/io/_io.py:132: UserWarning: /home/nguye590/Research/prip-nguye590/Latent_matching_hub/Segmentation/output_mask/shapes20171215T0924_305_from_512_thres_1_bmp/196_masked.bmp is a low contrast image\n",
      "  warn('%s is a low contrast image' % fname)\n"
     ]
    },
    {
     "name": "stdout",
     "output_type": "stream",
     "text": [
      "196\n"
     ]
    },
    {
     "name": "stderr",
     "output_type": "stream",
     "text": [
      "/home/nguye590/anaconda2/envs/tensorflow-research/lib/python2.7/site-packages/skimage/io/_io.py:132: UserWarning: /home/nguye590/Research/prip-nguye590/Latent_matching_hub/Segmentation/output_mask/shapes20171215T0924_305_from_512_thres_1_bmp/197_masked.bmp is a low contrast image\n",
      "  warn('%s is a low contrast image' % fname)\n"
     ]
    },
    {
     "name": "stdout",
     "output_type": "stream",
     "text": [
      "197\n"
     ]
    },
    {
     "name": "stderr",
     "output_type": "stream",
     "text": [
      "/home/nguye590/anaconda2/envs/tensorflow-research/lib/python2.7/site-packages/skimage/io/_io.py:132: UserWarning: /home/nguye590/Research/prip-nguye590/Latent_matching_hub/Segmentation/output_mask/shapes20171215T0924_305_from_512_thres_1_bmp/198_masked.bmp is a low contrast image\n",
      "  warn('%s is a low contrast image' % fname)\n"
     ]
    },
    {
     "name": "stdout",
     "output_type": "stream",
     "text": [
      "198\n"
     ]
    },
    {
     "name": "stderr",
     "output_type": "stream",
     "text": [
      "/home/nguye590/anaconda2/envs/tensorflow-research/lib/python2.7/site-packages/skimage/io/_io.py:132: UserWarning: /home/nguye590/Research/prip-nguye590/Latent_matching_hub/Segmentation/output_mask/shapes20171215T0924_305_from_512_thres_1_bmp/199_masked.bmp is a low contrast image\n",
      "  warn('%s is a low contrast image' % fname)\n"
     ]
    },
    {
     "name": "stdout",
     "output_type": "stream",
     "text": [
      "199\n"
     ]
    },
    {
     "name": "stderr",
     "output_type": "stream",
     "text": [
      "/home/nguye590/anaconda2/envs/tensorflow-research/lib/python2.7/site-packages/skimage/io/_io.py:132: UserWarning: /home/nguye590/Research/prip-nguye590/Latent_matching_hub/Segmentation/output_mask/shapes20171215T0924_305_from_512_thres_1_bmp/200_masked.bmp is a low contrast image\n",
      "  warn('%s is a low contrast image' % fname)\n"
     ]
    },
    {
     "name": "stdout",
     "output_type": "stream",
     "text": [
      "200\n"
     ]
    },
    {
     "name": "stderr",
     "output_type": "stream",
     "text": [
      "/home/nguye590/anaconda2/envs/tensorflow-research/lib/python2.7/site-packages/skimage/io/_io.py:132: UserWarning: /home/nguye590/Research/prip-nguye590/Latent_matching_hub/Segmentation/output_mask/shapes20171215T0924_305_from_512_thres_1_bmp/201_masked.bmp is a low contrast image\n",
      "  warn('%s is a low contrast image' % fname)\n"
     ]
    },
    {
     "name": "stdout",
     "output_type": "stream",
     "text": [
      "201\n"
     ]
    },
    {
     "name": "stderr",
     "output_type": "stream",
     "text": [
      "/home/nguye590/anaconda2/envs/tensorflow-research/lib/python2.7/site-packages/skimage/io/_io.py:132: UserWarning: /home/nguye590/Research/prip-nguye590/Latent_matching_hub/Segmentation/output_mask/shapes20171215T0924_305_from_512_thres_1_bmp/202_masked.bmp is a low contrast image\n",
      "  warn('%s is a low contrast image' % fname)\n"
     ]
    },
    {
     "name": "stdout",
     "output_type": "stream",
     "text": [
      "202\n"
     ]
    },
    {
     "name": "stderr",
     "output_type": "stream",
     "text": [
      "/home/nguye590/anaconda2/envs/tensorflow-research/lib/python2.7/site-packages/skimage/io/_io.py:132: UserWarning: /home/nguye590/Research/prip-nguye590/Latent_matching_hub/Segmentation/output_mask/shapes20171215T0924_305_from_512_thres_1_bmp/203_masked.bmp is a low contrast image\n",
      "  warn('%s is a low contrast image' % fname)\n"
     ]
    },
    {
     "name": "stdout",
     "output_type": "stream",
     "text": [
      "203\n"
     ]
    },
    {
     "name": "stderr",
     "output_type": "stream",
     "text": [
      "/home/nguye590/anaconda2/envs/tensorflow-research/lib/python2.7/site-packages/skimage/io/_io.py:132: UserWarning: /home/nguye590/Research/prip-nguye590/Latent_matching_hub/Segmentation/output_mask/shapes20171215T0924_305_from_512_thres_1_bmp/204_masked.bmp is a low contrast image\n",
      "  warn('%s is a low contrast image' % fname)\n"
     ]
    },
    {
     "name": "stdout",
     "output_type": "stream",
     "text": [
      "204\n"
     ]
    },
    {
     "name": "stderr",
     "output_type": "stream",
     "text": [
      "/home/nguye590/anaconda2/envs/tensorflow-research/lib/python2.7/site-packages/skimage/io/_io.py:132: UserWarning: /home/nguye590/Research/prip-nguye590/Latent_matching_hub/Segmentation/output_mask/shapes20171215T0924_305_from_512_thres_1_bmp/205_masked.bmp is a low contrast image\n",
      "  warn('%s is a low contrast image' % fname)\n"
     ]
    },
    {
     "name": "stdout",
     "output_type": "stream",
     "text": [
      "205\n"
     ]
    },
    {
     "name": "stderr",
     "output_type": "stream",
     "text": [
      "/home/nguye590/anaconda2/envs/tensorflow-research/lib/python2.7/site-packages/skimage/io/_io.py:132: UserWarning: /home/nguye590/Research/prip-nguye590/Latent_matching_hub/Segmentation/output_mask/shapes20171215T0924_305_from_512_thres_1_bmp/206_masked.bmp is a low contrast image\n",
      "  warn('%s is a low contrast image' % fname)\n"
     ]
    },
    {
     "name": "stdout",
     "output_type": "stream",
     "text": [
      "206\n"
     ]
    },
    {
     "name": "stderr",
     "output_type": "stream",
     "text": [
      "/home/nguye590/anaconda2/envs/tensorflow-research/lib/python2.7/site-packages/skimage/io/_io.py:132: UserWarning: /home/nguye590/Research/prip-nguye590/Latent_matching_hub/Segmentation/output_mask/shapes20171215T0924_305_from_512_thres_1_bmp/207_masked.bmp is a low contrast image\n",
      "  warn('%s is a low contrast image' % fname)\n"
     ]
    },
    {
     "name": "stdout",
     "output_type": "stream",
     "text": [
      "207\n"
     ]
    },
    {
     "name": "stderr",
     "output_type": "stream",
     "text": [
      "/home/nguye590/anaconda2/envs/tensorflow-research/lib/python2.7/site-packages/skimage/io/_io.py:132: UserWarning: /home/nguye590/Research/prip-nguye590/Latent_matching_hub/Segmentation/output_mask/shapes20171215T0924_305_from_512_thres_1_bmp/208_masked.bmp is a low contrast image\n",
      "  warn('%s is a low contrast image' % fname)\n"
     ]
    },
    {
     "name": "stdout",
     "output_type": "stream",
     "text": [
      "208\n"
     ]
    },
    {
     "name": "stderr",
     "output_type": "stream",
     "text": [
      "/home/nguye590/anaconda2/envs/tensorflow-research/lib/python2.7/site-packages/skimage/io/_io.py:132: UserWarning: /home/nguye590/Research/prip-nguye590/Latent_matching_hub/Segmentation/output_mask/shapes20171215T0924_305_from_512_thres_1_bmp/209_masked.bmp is a low contrast image\n",
      "  warn('%s is a low contrast image' % fname)\n"
     ]
    },
    {
     "name": "stdout",
     "output_type": "stream",
     "text": [
      "209\n"
     ]
    },
    {
     "name": "stderr",
     "output_type": "stream",
     "text": [
      "/home/nguye590/anaconda2/envs/tensorflow-research/lib/python2.7/site-packages/skimage/io/_io.py:132: UserWarning: /home/nguye590/Research/prip-nguye590/Latent_matching_hub/Segmentation/output_mask/shapes20171215T0924_305_from_512_thres_1_bmp/210_masked.bmp is a low contrast image\n",
      "  warn('%s is a low contrast image' % fname)\n"
     ]
    },
    {
     "name": "stdout",
     "output_type": "stream",
     "text": [
      "210\n"
     ]
    },
    {
     "name": "stderr",
     "output_type": "stream",
     "text": [
      "/home/nguye590/anaconda2/envs/tensorflow-research/lib/python2.7/site-packages/skimage/io/_io.py:132: UserWarning: /home/nguye590/Research/prip-nguye590/Latent_matching_hub/Segmentation/output_mask/shapes20171215T0924_305_from_512_thres_1_bmp/211_masked.bmp is a low contrast image\n",
      "  warn('%s is a low contrast image' % fname)\n"
     ]
    },
    {
     "name": "stdout",
     "output_type": "stream",
     "text": [
      "211\n"
     ]
    },
    {
     "name": "stderr",
     "output_type": "stream",
     "text": [
      "/home/nguye590/anaconda2/envs/tensorflow-research/lib/python2.7/site-packages/skimage/io/_io.py:132: UserWarning: /home/nguye590/Research/prip-nguye590/Latent_matching_hub/Segmentation/output_mask/shapes20171215T0924_305_from_512_thres_1_bmp/212_masked.bmp is a low contrast image\n",
      "  warn('%s is a low contrast image' % fname)\n"
     ]
    },
    {
     "name": "stdout",
     "output_type": "stream",
     "text": [
      "212\n"
     ]
    },
    {
     "name": "stderr",
     "output_type": "stream",
     "text": [
      "/home/nguye590/anaconda2/envs/tensorflow-research/lib/python2.7/site-packages/skimage/io/_io.py:132: UserWarning: /home/nguye590/Research/prip-nguye590/Latent_matching_hub/Segmentation/output_mask/shapes20171215T0924_305_from_512_thres_1_bmp/213_masked.bmp is a low contrast image\n",
      "  warn('%s is a low contrast image' % fname)\n"
     ]
    },
    {
     "name": "stdout",
     "output_type": "stream",
     "text": [
      "213\n"
     ]
    },
    {
     "name": "stderr",
     "output_type": "stream",
     "text": [
      "/home/nguye590/anaconda2/envs/tensorflow-research/lib/python2.7/site-packages/skimage/io/_io.py:132: UserWarning: /home/nguye590/Research/prip-nguye590/Latent_matching_hub/Segmentation/output_mask/shapes20171215T0924_305_from_512_thres_1_bmp/214_masked.bmp is a low contrast image\n",
      "  warn('%s is a low contrast image' % fname)\n"
     ]
    },
    {
     "name": "stdout",
     "output_type": "stream",
     "text": [
      "214\n"
     ]
    },
    {
     "name": "stderr",
     "output_type": "stream",
     "text": [
      "/home/nguye590/anaconda2/envs/tensorflow-research/lib/python2.7/site-packages/skimage/io/_io.py:132: UserWarning: /home/nguye590/Research/prip-nguye590/Latent_matching_hub/Segmentation/output_mask/shapes20171215T0924_305_from_512_thres_1_bmp/215_masked.bmp is a low contrast image\n",
      "  warn('%s is a low contrast image' % fname)\n"
     ]
    },
    {
     "name": "stdout",
     "output_type": "stream",
     "text": [
      "215\n"
     ]
    },
    {
     "name": "stderr",
     "output_type": "stream",
     "text": [
      "/home/nguye590/anaconda2/envs/tensorflow-research/lib/python2.7/site-packages/skimage/io/_io.py:132: UserWarning: /home/nguye590/Research/prip-nguye590/Latent_matching_hub/Segmentation/output_mask/shapes20171215T0924_305_from_512_thres_1_bmp/216_masked.bmp is a low contrast image\n",
      "  warn('%s is a low contrast image' % fname)\n"
     ]
    },
    {
     "name": "stdout",
     "output_type": "stream",
     "text": [
      "216\n"
     ]
    },
    {
     "name": "stderr",
     "output_type": "stream",
     "text": [
      "/home/nguye590/anaconda2/envs/tensorflow-research/lib/python2.7/site-packages/skimage/io/_io.py:132: UserWarning: /home/nguye590/Research/prip-nguye590/Latent_matching_hub/Segmentation/output_mask/shapes20171215T0924_305_from_512_thres_1_bmp/217_masked.bmp is a low contrast image\n",
      "  warn('%s is a low contrast image' % fname)\n"
     ]
    },
    {
     "name": "stdout",
     "output_type": "stream",
     "text": [
      "217\n"
     ]
    },
    {
     "name": "stderr",
     "output_type": "stream",
     "text": [
      "/home/nguye590/anaconda2/envs/tensorflow-research/lib/python2.7/site-packages/skimage/io/_io.py:132: UserWarning: /home/nguye590/Research/prip-nguye590/Latent_matching_hub/Segmentation/output_mask/shapes20171215T0924_305_from_512_thres_1_bmp/218_masked.bmp is a low contrast image\n",
      "  warn('%s is a low contrast image' % fname)\n"
     ]
    },
    {
     "name": "stdout",
     "output_type": "stream",
     "text": [
      "218\n"
     ]
    },
    {
     "name": "stderr",
     "output_type": "stream",
     "text": [
      "/home/nguye590/anaconda2/envs/tensorflow-research/lib/python2.7/site-packages/skimage/io/_io.py:132: UserWarning: /home/nguye590/Research/prip-nguye590/Latent_matching_hub/Segmentation/output_mask/shapes20171215T0924_305_from_512_thres_1_bmp/219_masked.bmp is a low contrast image\n",
      "  warn('%s is a low contrast image' % fname)\n"
     ]
    },
    {
     "name": "stdout",
     "output_type": "stream",
     "text": [
      "219\n"
     ]
    },
    {
     "name": "stderr",
     "output_type": "stream",
     "text": [
      "/home/nguye590/anaconda2/envs/tensorflow-research/lib/python2.7/site-packages/skimage/io/_io.py:132: UserWarning: /home/nguye590/Research/prip-nguye590/Latent_matching_hub/Segmentation/output_mask/shapes20171215T0924_305_from_512_thres_1_bmp/220_masked.bmp is a low contrast image\n",
      "  warn('%s is a low contrast image' % fname)\n"
     ]
    },
    {
     "name": "stdout",
     "output_type": "stream",
     "text": [
      "220\n"
     ]
    },
    {
     "name": "stderr",
     "output_type": "stream",
     "text": [
      "/home/nguye590/anaconda2/envs/tensorflow-research/lib/python2.7/site-packages/skimage/io/_io.py:132: UserWarning: /home/nguye590/Research/prip-nguye590/Latent_matching_hub/Segmentation/output_mask/shapes20171215T0924_305_from_512_thres_1_bmp/221_masked.bmp is a low contrast image\n",
      "  warn('%s is a low contrast image' % fname)\n"
     ]
    },
    {
     "name": "stdout",
     "output_type": "stream",
     "text": [
      "221\n"
     ]
    },
    {
     "name": "stderr",
     "output_type": "stream",
     "text": [
      "/home/nguye590/anaconda2/envs/tensorflow-research/lib/python2.7/site-packages/skimage/io/_io.py:132: UserWarning: /home/nguye590/Research/prip-nguye590/Latent_matching_hub/Segmentation/output_mask/shapes20171215T0924_305_from_512_thres_1_bmp/222_masked.bmp is a low contrast image\n",
      "  warn('%s is a low contrast image' % fname)\n"
     ]
    },
    {
     "name": "stdout",
     "output_type": "stream",
     "text": [
      "222\n"
     ]
    },
    {
     "name": "stderr",
     "output_type": "stream",
     "text": [
      "/home/nguye590/anaconda2/envs/tensorflow-research/lib/python2.7/site-packages/skimage/io/_io.py:132: UserWarning: /home/nguye590/Research/prip-nguye590/Latent_matching_hub/Segmentation/output_mask/shapes20171215T0924_305_from_512_thres_1_bmp/223_masked.bmp is a low contrast image\n",
      "  warn('%s is a low contrast image' % fname)\n"
     ]
    },
    {
     "name": "stdout",
     "output_type": "stream",
     "text": [
      "223\n"
     ]
    },
    {
     "name": "stderr",
     "output_type": "stream",
     "text": [
      "/home/nguye590/anaconda2/envs/tensorflow-research/lib/python2.7/site-packages/skimage/io/_io.py:132: UserWarning: /home/nguye590/Research/prip-nguye590/Latent_matching_hub/Segmentation/output_mask/shapes20171215T0924_305_from_512_thres_1_bmp/224_masked.bmp is a low contrast image\n",
      "  warn('%s is a low contrast image' % fname)\n"
     ]
    },
    {
     "name": "stdout",
     "output_type": "stream",
     "text": [
      "224\n"
     ]
    },
    {
     "name": "stderr",
     "output_type": "stream",
     "text": [
      "/home/nguye590/anaconda2/envs/tensorflow-research/lib/python2.7/site-packages/skimage/io/_io.py:132: UserWarning: /home/nguye590/Research/prip-nguye590/Latent_matching_hub/Segmentation/output_mask/shapes20171215T0924_305_from_512_thres_1_bmp/225_masked.bmp is a low contrast image\n",
      "  warn('%s is a low contrast image' % fname)\n"
     ]
    },
    {
     "name": "stdout",
     "output_type": "stream",
     "text": [
      "225\n"
     ]
    },
    {
     "name": "stderr",
     "output_type": "stream",
     "text": [
      "/home/nguye590/anaconda2/envs/tensorflow-research/lib/python2.7/site-packages/skimage/io/_io.py:132: UserWarning: /home/nguye590/Research/prip-nguye590/Latent_matching_hub/Segmentation/output_mask/shapes20171215T0924_305_from_512_thres_1_bmp/226_masked.bmp is a low contrast image\n",
      "  warn('%s is a low contrast image' % fname)\n"
     ]
    },
    {
     "name": "stdout",
     "output_type": "stream",
     "text": [
      "226\n"
     ]
    },
    {
     "name": "stderr",
     "output_type": "stream",
     "text": [
      "/home/nguye590/anaconda2/envs/tensorflow-research/lib/python2.7/site-packages/skimage/io/_io.py:132: UserWarning: /home/nguye590/Research/prip-nguye590/Latent_matching_hub/Segmentation/output_mask/shapes20171215T0924_305_from_512_thres_1_bmp/227_masked.bmp is a low contrast image\n",
      "  warn('%s is a low contrast image' % fname)\n"
     ]
    },
    {
     "name": "stdout",
     "output_type": "stream",
     "text": [
      "227\n"
     ]
    },
    {
     "name": "stderr",
     "output_type": "stream",
     "text": [
      "/home/nguye590/anaconda2/envs/tensorflow-research/lib/python2.7/site-packages/skimage/io/_io.py:132: UserWarning: /home/nguye590/Research/prip-nguye590/Latent_matching_hub/Segmentation/output_mask/shapes20171215T0924_305_from_512_thres_1_bmp/228_masked.bmp is a low contrast image\n",
      "  warn('%s is a low contrast image' % fname)\n"
     ]
    },
    {
     "name": "stdout",
     "output_type": "stream",
     "text": [
      "228\n"
     ]
    },
    {
     "name": "stderr",
     "output_type": "stream",
     "text": [
      "/home/nguye590/anaconda2/envs/tensorflow-research/lib/python2.7/site-packages/skimage/io/_io.py:132: UserWarning: /home/nguye590/Research/prip-nguye590/Latent_matching_hub/Segmentation/output_mask/shapes20171215T0924_305_from_512_thres_1_bmp/229_masked.bmp is a low contrast image\n",
      "  warn('%s is a low contrast image' % fname)\n"
     ]
    },
    {
     "name": "stdout",
     "output_type": "stream",
     "text": [
      "229\n"
     ]
    },
    {
     "name": "stderr",
     "output_type": "stream",
     "text": [
      "/home/nguye590/anaconda2/envs/tensorflow-research/lib/python2.7/site-packages/skimage/io/_io.py:132: UserWarning: /home/nguye590/Research/prip-nguye590/Latent_matching_hub/Segmentation/output_mask/shapes20171215T0924_305_from_512_thres_1_bmp/230_masked.bmp is a low contrast image\n",
      "  warn('%s is a low contrast image' % fname)\n"
     ]
    },
    {
     "name": "stdout",
     "output_type": "stream",
     "text": [
      "230\n"
     ]
    },
    {
     "name": "stderr",
     "output_type": "stream",
     "text": [
      "/home/nguye590/anaconda2/envs/tensorflow-research/lib/python2.7/site-packages/skimage/io/_io.py:132: UserWarning: /home/nguye590/Research/prip-nguye590/Latent_matching_hub/Segmentation/output_mask/shapes20171215T0924_305_from_512_thres_1_bmp/231_masked.bmp is a low contrast image\n",
      "  warn('%s is a low contrast image' % fname)\n"
     ]
    },
    {
     "name": "stdout",
     "output_type": "stream",
     "text": [
      "231\n"
     ]
    },
    {
     "name": "stderr",
     "output_type": "stream",
     "text": [
      "/home/nguye590/anaconda2/envs/tensorflow-research/lib/python2.7/site-packages/skimage/io/_io.py:132: UserWarning: /home/nguye590/Research/prip-nguye590/Latent_matching_hub/Segmentation/output_mask/shapes20171215T0924_305_from_512_thres_1_bmp/232_masked.bmp is a low contrast image\n",
      "  warn('%s is a low contrast image' % fname)\n"
     ]
    },
    {
     "name": "stdout",
     "output_type": "stream",
     "text": [
      "232\n"
     ]
    },
    {
     "name": "stderr",
     "output_type": "stream",
     "text": [
      "/home/nguye590/anaconda2/envs/tensorflow-research/lib/python2.7/site-packages/skimage/io/_io.py:132: UserWarning: /home/nguye590/Research/prip-nguye590/Latent_matching_hub/Segmentation/output_mask/shapes20171215T0924_305_from_512_thres_1_bmp/233_masked.bmp is a low contrast image\n",
      "  warn('%s is a low contrast image' % fname)\n"
     ]
    },
    {
     "name": "stdout",
     "output_type": "stream",
     "text": [
      "233\n"
     ]
    },
    {
     "name": "stderr",
     "output_type": "stream",
     "text": [
      "/home/nguye590/anaconda2/envs/tensorflow-research/lib/python2.7/site-packages/skimage/io/_io.py:132: UserWarning: /home/nguye590/Research/prip-nguye590/Latent_matching_hub/Segmentation/output_mask/shapes20171215T0924_305_from_512_thres_1_bmp/234_masked.bmp is a low contrast image\n",
      "  warn('%s is a low contrast image' % fname)\n"
     ]
    },
    {
     "name": "stdout",
     "output_type": "stream",
     "text": [
      "234\n"
     ]
    },
    {
     "name": "stderr",
     "output_type": "stream",
     "text": [
      "/home/nguye590/anaconda2/envs/tensorflow-research/lib/python2.7/site-packages/skimage/io/_io.py:132: UserWarning: /home/nguye590/Research/prip-nguye590/Latent_matching_hub/Segmentation/output_mask/shapes20171215T0924_305_from_512_thres_1_bmp/235_masked.bmp is a low contrast image\n",
      "  warn('%s is a low contrast image' % fname)\n"
     ]
    },
    {
     "name": "stdout",
     "output_type": "stream",
     "text": [
      "235\n"
     ]
    },
    {
     "name": "stderr",
     "output_type": "stream",
     "text": [
      "/home/nguye590/anaconda2/envs/tensorflow-research/lib/python2.7/site-packages/skimage/io/_io.py:132: UserWarning: /home/nguye590/Research/prip-nguye590/Latent_matching_hub/Segmentation/output_mask/shapes20171215T0924_305_from_512_thres_1_bmp/236_masked.bmp is a low contrast image\n",
      "  warn('%s is a low contrast image' % fname)\n"
     ]
    },
    {
     "name": "stdout",
     "output_type": "stream",
     "text": [
      "236\n"
     ]
    },
    {
     "name": "stderr",
     "output_type": "stream",
     "text": [
      "/home/nguye590/anaconda2/envs/tensorflow-research/lib/python2.7/site-packages/skimage/io/_io.py:132: UserWarning: /home/nguye590/Research/prip-nguye590/Latent_matching_hub/Segmentation/output_mask/shapes20171215T0924_305_from_512_thres_1_bmp/237_masked.bmp is a low contrast image\n",
      "  warn('%s is a low contrast image' % fname)\n"
     ]
    },
    {
     "name": "stdout",
     "output_type": "stream",
     "text": [
      "237\n"
     ]
    },
    {
     "name": "stderr",
     "output_type": "stream",
     "text": [
      "/home/nguye590/anaconda2/envs/tensorflow-research/lib/python2.7/site-packages/skimage/io/_io.py:132: UserWarning: /home/nguye590/Research/prip-nguye590/Latent_matching_hub/Segmentation/output_mask/shapes20171215T0924_305_from_512_thres_1_bmp/238_masked.bmp is a low contrast image\n",
      "  warn('%s is a low contrast image' % fname)\n"
     ]
    },
    {
     "name": "stdout",
     "output_type": "stream",
     "text": [
      "238\n"
     ]
    },
    {
     "name": "stderr",
     "output_type": "stream",
     "text": [
      "/home/nguye590/anaconda2/envs/tensorflow-research/lib/python2.7/site-packages/skimage/io/_io.py:132: UserWarning: /home/nguye590/Research/prip-nguye590/Latent_matching_hub/Segmentation/output_mask/shapes20171215T0924_305_from_512_thres_1_bmp/239_masked.bmp is a low contrast image\n",
      "  warn('%s is a low contrast image' % fname)\n"
     ]
    },
    {
     "name": "stdout",
     "output_type": "stream",
     "text": [
      "239\n"
     ]
    },
    {
     "name": "stderr",
     "output_type": "stream",
     "text": [
      "/home/nguye590/anaconda2/envs/tensorflow-research/lib/python2.7/site-packages/skimage/io/_io.py:132: UserWarning: /home/nguye590/Research/prip-nguye590/Latent_matching_hub/Segmentation/output_mask/shapes20171215T0924_305_from_512_thres_1_bmp/240_masked.bmp is a low contrast image\n",
      "  warn('%s is a low contrast image' % fname)\n"
     ]
    },
    {
     "name": "stdout",
     "output_type": "stream",
     "text": [
      "240\n"
     ]
    },
    {
     "name": "stderr",
     "output_type": "stream",
     "text": [
      "/home/nguye590/anaconda2/envs/tensorflow-research/lib/python2.7/site-packages/skimage/io/_io.py:132: UserWarning: /home/nguye590/Research/prip-nguye590/Latent_matching_hub/Segmentation/output_mask/shapes20171215T0924_305_from_512_thres_1_bmp/241_masked.bmp is a low contrast image\n",
      "  warn('%s is a low contrast image' % fname)\n"
     ]
    },
    {
     "name": "stdout",
     "output_type": "stream",
     "text": [
      "241\n"
     ]
    },
    {
     "name": "stderr",
     "output_type": "stream",
     "text": [
      "/home/nguye590/anaconda2/envs/tensorflow-research/lib/python2.7/site-packages/skimage/io/_io.py:132: UserWarning: /home/nguye590/Research/prip-nguye590/Latent_matching_hub/Segmentation/output_mask/shapes20171215T0924_305_from_512_thres_1_bmp/242_masked.bmp is a low contrast image\n",
      "  warn('%s is a low contrast image' % fname)\n"
     ]
    },
    {
     "name": "stdout",
     "output_type": "stream",
     "text": [
      "242\n"
     ]
    },
    {
     "name": "stderr",
     "output_type": "stream",
     "text": [
      "/home/nguye590/anaconda2/envs/tensorflow-research/lib/python2.7/site-packages/skimage/io/_io.py:132: UserWarning: /home/nguye590/Research/prip-nguye590/Latent_matching_hub/Segmentation/output_mask/shapes20171215T0924_305_from_512_thres_1_bmp/243_masked.bmp is a low contrast image\n",
      "  warn('%s is a low contrast image' % fname)\n"
     ]
    },
    {
     "name": "stdout",
     "output_type": "stream",
     "text": [
      "243\n"
     ]
    },
    {
     "name": "stderr",
     "output_type": "stream",
     "text": [
      "/home/nguye590/anaconda2/envs/tensorflow-research/lib/python2.7/site-packages/skimage/io/_io.py:132: UserWarning: /home/nguye590/Research/prip-nguye590/Latent_matching_hub/Segmentation/output_mask/shapes20171215T0924_305_from_512_thres_1_bmp/244_masked.bmp is a low contrast image\n",
      "  warn('%s is a low contrast image' % fname)\n"
     ]
    },
    {
     "name": "stdout",
     "output_type": "stream",
     "text": [
      "244\n"
     ]
    },
    {
     "name": "stderr",
     "output_type": "stream",
     "text": [
      "/home/nguye590/anaconda2/envs/tensorflow-research/lib/python2.7/site-packages/skimage/io/_io.py:132: UserWarning: /home/nguye590/Research/prip-nguye590/Latent_matching_hub/Segmentation/output_mask/shapes20171215T0924_305_from_512_thres_1_bmp/245_masked.bmp is a low contrast image\n",
      "  warn('%s is a low contrast image' % fname)\n"
     ]
    },
    {
     "name": "stdout",
     "output_type": "stream",
     "text": [
      "245\n"
     ]
    },
    {
     "name": "stderr",
     "output_type": "stream",
     "text": [
      "/home/nguye590/anaconda2/envs/tensorflow-research/lib/python2.7/site-packages/skimage/io/_io.py:132: UserWarning: /home/nguye590/Research/prip-nguye590/Latent_matching_hub/Segmentation/output_mask/shapes20171215T0924_305_from_512_thres_1_bmp/246_masked.bmp is a low contrast image\n",
      "  warn('%s is a low contrast image' % fname)\n"
     ]
    },
    {
     "name": "stdout",
     "output_type": "stream",
     "text": [
      "246\n"
     ]
    },
    {
     "name": "stderr",
     "output_type": "stream",
     "text": [
      "/home/nguye590/anaconda2/envs/tensorflow-research/lib/python2.7/site-packages/skimage/io/_io.py:132: UserWarning: /home/nguye590/Research/prip-nguye590/Latent_matching_hub/Segmentation/output_mask/shapes20171215T0924_305_from_512_thres_1_bmp/247_masked.bmp is a low contrast image\n",
      "  warn('%s is a low contrast image' % fname)\n"
     ]
    },
    {
     "name": "stdout",
     "output_type": "stream",
     "text": [
      "247\n"
     ]
    },
    {
     "name": "stderr",
     "output_type": "stream",
     "text": [
      "/home/nguye590/anaconda2/envs/tensorflow-research/lib/python2.7/site-packages/skimage/io/_io.py:132: UserWarning: /home/nguye590/Research/prip-nguye590/Latent_matching_hub/Segmentation/output_mask/shapes20171215T0924_305_from_512_thres_1_bmp/248_masked.bmp is a low contrast image\n",
      "  warn('%s is a low contrast image' % fname)\n"
     ]
    },
    {
     "name": "stdout",
     "output_type": "stream",
     "text": [
      "248\n"
     ]
    },
    {
     "name": "stderr",
     "output_type": "stream",
     "text": [
      "/home/nguye590/anaconda2/envs/tensorflow-research/lib/python2.7/site-packages/skimage/io/_io.py:132: UserWarning: /home/nguye590/Research/prip-nguye590/Latent_matching_hub/Segmentation/output_mask/shapes20171215T0924_305_from_512_thres_1_bmp/249_masked.bmp is a low contrast image\n",
      "  warn('%s is a low contrast image' % fname)\n"
     ]
    },
    {
     "name": "stdout",
     "output_type": "stream",
     "text": [
      "249\n"
     ]
    },
    {
     "name": "stderr",
     "output_type": "stream",
     "text": [
      "/home/nguye590/anaconda2/envs/tensorflow-research/lib/python2.7/site-packages/skimage/io/_io.py:132: UserWarning: /home/nguye590/Research/prip-nguye590/Latent_matching_hub/Segmentation/output_mask/shapes20171215T0924_305_from_512_thres_1_bmp/250_masked.bmp is a low contrast image\n",
      "  warn('%s is a low contrast image' % fname)\n"
     ]
    },
    {
     "name": "stdout",
     "output_type": "stream",
     "text": [
      "250\n"
     ]
    },
    {
     "name": "stderr",
     "output_type": "stream",
     "text": [
      "/home/nguye590/anaconda2/envs/tensorflow-research/lib/python2.7/site-packages/skimage/io/_io.py:132: UserWarning: /home/nguye590/Research/prip-nguye590/Latent_matching_hub/Segmentation/output_mask/shapes20171215T0924_305_from_512_thres_1_bmp/251_masked.bmp is a low contrast image\n",
      "  warn('%s is a low contrast image' % fname)\n"
     ]
    },
    {
     "name": "stdout",
     "output_type": "stream",
     "text": [
      "251\n"
     ]
    },
    {
     "name": "stderr",
     "output_type": "stream",
     "text": [
      "/home/nguye590/anaconda2/envs/tensorflow-research/lib/python2.7/site-packages/skimage/io/_io.py:132: UserWarning: /home/nguye590/Research/prip-nguye590/Latent_matching_hub/Segmentation/output_mask/shapes20171215T0924_305_from_512_thres_1_bmp/252_masked.bmp is a low contrast image\n",
      "  warn('%s is a low contrast image' % fname)\n"
     ]
    },
    {
     "name": "stdout",
     "output_type": "stream",
     "text": [
      "252\n"
     ]
    },
    {
     "name": "stderr",
     "output_type": "stream",
     "text": [
      "/home/nguye590/anaconda2/envs/tensorflow-research/lib/python2.7/site-packages/skimage/io/_io.py:132: UserWarning: /home/nguye590/Research/prip-nguye590/Latent_matching_hub/Segmentation/output_mask/shapes20171215T0924_305_from_512_thres_1_bmp/253_masked.bmp is a low contrast image\n",
      "  warn('%s is a low contrast image' % fname)\n"
     ]
    },
    {
     "name": "stdout",
     "output_type": "stream",
     "text": [
      "253\n"
     ]
    },
    {
     "name": "stderr",
     "output_type": "stream",
     "text": [
      "/home/nguye590/anaconda2/envs/tensorflow-research/lib/python2.7/site-packages/skimage/io/_io.py:132: UserWarning: /home/nguye590/Research/prip-nguye590/Latent_matching_hub/Segmentation/output_mask/shapes20171215T0924_305_from_512_thres_1_bmp/254_masked.bmp is a low contrast image\n",
      "  warn('%s is a low contrast image' % fname)\n"
     ]
    },
    {
     "name": "stdout",
     "output_type": "stream",
     "text": [
      "254\n"
     ]
    },
    {
     "name": "stderr",
     "output_type": "stream",
     "text": [
      "/home/nguye590/anaconda2/envs/tensorflow-research/lib/python2.7/site-packages/skimage/io/_io.py:132: UserWarning: /home/nguye590/Research/prip-nguye590/Latent_matching_hub/Segmentation/output_mask/shapes20171215T0924_305_from_512_thres_1_bmp/255_masked.bmp is a low contrast image\n",
      "  warn('%s is a low contrast image' % fname)\n"
     ]
    },
    {
     "name": "stdout",
     "output_type": "stream",
     "text": [
      "255\n"
     ]
    },
    {
     "name": "stderr",
     "output_type": "stream",
     "text": [
      "/home/nguye590/anaconda2/envs/tensorflow-research/lib/python2.7/site-packages/skimage/io/_io.py:132: UserWarning: /home/nguye590/Research/prip-nguye590/Latent_matching_hub/Segmentation/output_mask/shapes20171215T0924_305_from_512_thres_1_bmp/256_masked.bmp is a low contrast image\n",
      "  warn('%s is a low contrast image' % fname)\n"
     ]
    },
    {
     "name": "stdout",
     "output_type": "stream",
     "text": [
      "256\n"
     ]
    },
    {
     "name": "stderr",
     "output_type": "stream",
     "text": [
      "/home/nguye590/anaconda2/envs/tensorflow-research/lib/python2.7/site-packages/skimage/io/_io.py:132: UserWarning: /home/nguye590/Research/prip-nguye590/Latent_matching_hub/Segmentation/output_mask/shapes20171215T0924_305_from_512_thres_1_bmp/257_masked.bmp is a low contrast image\n",
      "  warn('%s is a low contrast image' % fname)\n"
     ]
    },
    {
     "name": "stdout",
     "output_type": "stream",
     "text": [
      "257\n"
     ]
    },
    {
     "name": "stderr",
     "output_type": "stream",
     "text": [
      "/home/nguye590/anaconda2/envs/tensorflow-research/lib/python2.7/site-packages/skimage/io/_io.py:132: UserWarning: /home/nguye590/Research/prip-nguye590/Latent_matching_hub/Segmentation/output_mask/shapes20171215T0924_305_from_512_thres_1_bmp/258_masked.bmp is a low contrast image\n",
      "  warn('%s is a low contrast image' % fname)\n"
     ]
    }
   ],
   "source": [
    "generate_mask(mymodel, './output_mask',\n",
    "              '/home/kaicao/Dropbox/Research/Data/Latent/NISTSD27',\n",
    "              gen_type = 'bmp', fuse_thres = 1)"
   ]
  },
  {
   "cell_type": "code",
   "execution_count": null,
   "metadata": {
    "collapsed": true
   },
   "outputs": [],
   "source": []
  }
 ],
 "metadata": {
  "kernelspec": {
   "display_name": "Python 2",
   "language": "python",
   "name": "python2"
  },
  "language_info": {
   "codemirror_mode": {
    "name": "ipython",
    "version": 2
   },
   "file_extension": ".py",
   "mimetype": "text/x-python",
   "name": "python",
   "nbconvert_exporter": "python",
   "pygments_lexer": "ipython2",
   "version": "2.7.11"
  }
 },
 "nbformat": 4,
 "nbformat_minor": 2
}
